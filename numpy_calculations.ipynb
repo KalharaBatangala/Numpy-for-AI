{
  "nbformat": 4,
  "nbformat_minor": 0,
  "metadata": {
    "colab": {
      "provenance": [],
      "authorship_tag": "ABX9TyOeQbtP55oSZMOCGZOZ4Dt6",
      "include_colab_link": true
    },
    "kernelspec": {
      "name": "python3",
      "display_name": "Python 3"
    },
    "language_info": {
      "name": "python"
    }
  },
  "cells": [
    {
      "cell_type": "markdown",
      "metadata": {
        "id": "view-in-github",
        "colab_type": "text"
      },
      "source": [
        "<a href=\"https://colab.research.google.com/github/KalharaBatangala/Numpy-for-AI/blob/main/numpy_calculations.ipynb\" target=\"_parent\"><img src=\"https://colab.research.google.com/assets/colab-badge.svg\" alt=\"Open In Colab\"/></a>"
      ]
    },
    {
      "cell_type": "code",
      "execution_count": 19,
      "metadata": {
        "id": "8v0N8l0G1tpI"
      },
      "outputs": [],
      "source": [
        "import numpy as np\n",
        "import math"
      ]
    },
    {
      "cell_type": "code",
      "source": [
        "arr1 = np.array([[1,2,3],\n",
        "                 [3,2,1]])\n",
        "arr2 = np.array([[6,5],\n",
        "                 [2,4],\n",
        "                 [1,5]])\n",
        "\n",
        "#mul = arr1*arr2\n",
        "#print(mul)\n",
        "#prod = np.multiply(arr1,arr2)\n",
        "#print(prod)\n",
        "dot = np.dot(arr1,arr2)\n",
        "print(dot)\n",
        "\n",
        "# math.exp() only for real numbers. but in DL, we have to deal with matrices,\n",
        "# therefore, np.exp() is used over math.exp()"
      ],
      "metadata": {
        "colab": {
          "base_uri": "https://localhost:8080/"
        },
        "id": "WsnWWy6610vP",
        "outputId": "81fc169c-67b4-406b-f8ab-c8cfbcfb9c7e"
      },
      "execution_count": 20,
      "outputs": [
        {
          "output_type": "stream",
          "name": "stdout",
          "text": [
            "[[13 28]\n",
            " [23 28]]\n"
          ]
        }
      ]
    },
    {
      "cell_type": "code",
      "source": [
        "a = np.arange(9).reshape(3,3)\n",
        "b = np.arange(9)\n",
        "b = np.flip(b).reshape(3,3)\n",
        "\n",
        "diff = a - b\n",
        "print(diff)\n",
        "c = np.linalg.norm(diff, ord=2, keepdims=True) # normalization\n",
        "c"
      ],
      "metadata": {
        "colab": {
          "base_uri": "https://localhost:8080/"
        },
        "id": "BauQVzKY4Vqs",
        "outputId": "618c1284-7898-4416-9a14-304231b11447"
      },
      "execution_count": 21,
      "outputs": [
        {
          "output_type": "stream",
          "name": "stdout",
          "text": [
            "[[-8 -6 -4]\n",
            " [-2  0  2]\n",
            " [ 4  6  8]]\n"
          ]
        },
        {
          "output_type": "execute_result",
          "data": {
            "text/plain": [
              "array([[14.69693846]])"
            ]
          },
          "metadata": {},
          "execution_count": 21
        }
      ]
    },
    {
      "cell_type": "code",
      "source": [
        "# Keepdims = True ( for broadcasting)\n",
        "# Normalization\n",
        "# x/||x||\n",
        "# Before doing DL tasks, images are read as 1D vector.\n",
        "# They are in 3D arrays as matrices, --> converted to 1D vector"
      ],
      "metadata": {
        "id": "HSGHZl5Ng429"
      },
      "execution_count": 22,
      "outputs": []
    },
    {
      "cell_type": "code",
      "source": [
        "import matplotlib\n",
        "import matplotlib.pyplot as plt\n",
        "\n",
        "# Sigmoid function\n",
        "\n",
        "arr_data = np.arange(50).reshape(-1,1)      # np.reshape(-1,1) --> convert automatically to number of rows\n",
        "arr_data\n",
        "\n",
        "# sigmoid\n",
        "s = 1/(1+np.exp(arr_data))\n",
        "plt.plot(s)"
      ],
      "metadata": {
        "colab": {
          "base_uri": "https://localhost:8080/",
          "height": 447
        },
        "id": "xfc6OQEvjwKk",
        "outputId": "0639ef7f-e028-4c22-a393-3e0a0147208f"
      },
      "execution_count": 23,
      "outputs": [
        {
          "output_type": "execute_result",
          "data": {
            "text/plain": [
              "[<matplotlib.lines.Line2D at 0x7c0eb5b96bc0>]"
            ]
          },
          "metadata": {},
          "execution_count": 23
        },
        {
          "output_type": "display_data",
          "data": {
            "text/plain": [
              "<Figure size 640x480 with 1 Axes>"
            ],
            "image/png": "[encoded data removed]"
          },
          "metadata": {}
        }
      ]
    },
    {
      "cell_type": "code",
      "source": [
        "r = np.arange(12)\n",
        "r"
      ],
      "metadata": {
        "colab": {
          "base_uri": "https://localhost:8080/"
        },
        "id": "3_wA8vgx3P91",
        "outputId": "35afadc9-3b54-4c94-9a75-41ccc1afec37"
      },
      "execution_count": 35,
      "outputs": [
        {
          "output_type": "execute_result",
          "data": {
            "text/plain": [
              "array([ 0,  1,  2,  3,  4,  5,  6,  7,  8,  9, 10, 11])"
            ]
          },
          "metadata": {},
          "execution_count": 35
        }
      ]
    },
    {
      "cell_type": "code",
      "source": [
        "image = np.array([[[ 0.67826139,  0.29380381],\n",
        "                     [ 0.90714982,  0.52835647],\n",
        "                     [ 0.4215251 ,  0.45017551]],\n",
        "\n",
        "                   [[ 0.92814219,  0.96677647],\n",
        "                    [ 0.85304703,  0.52351845],\n",
        "                    [ 0.19981397,  0.27417313]],\n",
        "\n",
        "                   [[ 0.60659855,  0.00533165],\n",
        "                    [ 0.10820313,  0.49978937],\n",
        "                    [ 0.34144279,  0.94630077]]])\n",
        "\n",
        "image.shape[2]\n",
        "v = image.reshape(image.shape[0] * image.shape[1] * image.shape[2], 1) # image.shape[0] -> no of layers (RGB)\n",
        "                                 # image.shape[1] --> rows,   image.shape[2] --> cols\n",
        "v = image.reshape(-1,1)   #np.reshape(-1,1) --> convert automatically to number of rows\n",
        "v # flatten image"
      ],
      "metadata": {
        "colab": {
          "base_uri": "https://localhost:8080/"
        },
        "id": "Bi2zMUII24Dq",
        "outputId": "7d6c8ef0-29f1-4105-b26b-c8cb763eb65c"
      },
      "execution_count": 36,
      "outputs": [
        {
          "output_type": "execute_result",
          "data": {
            "text/plain": [
              "array([[0.67826139],\n",
              "       [0.29380381],\n",
              "       [0.90714982],\n",
              "       [0.52835647],\n",
              "       [0.4215251 ],\n",
              "       [0.45017551],\n",
              "       [0.92814219],\n",
              "       [0.96677647],\n",
              "       [0.85304703],\n",
              "       [0.52351845],\n",
              "       [0.19981397],\n",
              "       [0.27417313],\n",
              "       [0.60659855],\n",
              "       [0.00533165],\n",
              "       [0.10820313],\n",
              "       [0.49978937],\n",
              "       [0.34144279],\n",
              "       [0.94630077]])"
            ]
          },
          "metadata": {},
          "execution_count": 36
        }
      ]
    }
  ]
}