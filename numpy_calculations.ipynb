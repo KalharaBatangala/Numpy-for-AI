{
  "nbformat": 4,
  "nbformat_minor": 0,
  "metadata": {
    "colab": {
      "provenance": [],
      "authorship_tag": "ABX9TyNgKXgP/wIWVPpdXEEw+Fvc",
      "include_colab_link": true
    },
    "kernelspec": {
      "name": "python3",
      "display_name": "Python 3"
    },
    "language_info": {
      "name": "python"
    }
  },
  "cells": [
    {
      "cell_type": "markdown",
      "metadata": {
        "id": "view-in-github",
        "colab_type": "text"
      },
      "source": [
        "<a href=\"https://colab.research.google.com/github/KalharaBatangala/Numpy-for-AI/blob/main/numpy_calculations.ipynb\" target=\"_parent\"><img src=\"https://colab.research.google.com/assets/colab-badge.svg\" alt=\"Open In Colab\"/></a>"
      ]
    },
    {
      "cell_type": "code",
      "execution_count": 1,
      "metadata": {
        "id": "8v0N8l0G1tpI"
      },
      "outputs": [],
      "source": [
        "import numpy as np\n",
        "import math"
      ]
    },
    {
      "cell_type": "code",
      "source": [
        "arr1 = np.array([[1,2,3],\n",
        "                 [3,2,1]])\n",
        "arr2 = np.array([[6,5],\n",
        "                 [2,4],\n",
        "                 [1,5]])\n",
        "\n",
        "#mul = arr1*arr2\n",
        "#print(mul)\n",
        "#prod = np.multiply(arr1,arr2)\n",
        "#print(prod)\n",
        "dot = np.dot(arr1,arr2)\n",
        "print(dot)\n",
        "\n",
        "# math.exp() only for real numbers. but in DL, we have to deal with matrices,\n",
        "# therefore, np.exp() is used over math.exp()"
      ],
      "metadata": {
        "colab": {
          "base_uri": "https://localhost:8080/"
        },
        "id": "WsnWWy6610vP",
        "outputId": "f8096d2d-982b-4813-fb9d-665d6da9ad6b"
      },
      "execution_count": 2,
      "outputs": [
        {
          "output_type": "stream",
          "name": "stdout",
          "text": [
            "[[13 28]\n",
            " [23 28]]\n"
          ]
        }
      ]
    },
    {
      "cell_type": "code",
      "source": [
        "a = np.arange(9).reshape(3,3)\n",
        "b = np.arange(9)\n",
        "b = np.flip(b).reshape(3,3)\n",
        "\n",
        "diff = a - b\n",
        "print(diff)\n",
        "c = np.linalg.norm(diff, ord=2, keepdims=True) # normalization\n",
        "c"
      ],
      "metadata": {
        "colab": {
          "base_uri": "https://localhost:8080/"
        },
        "id": "BauQVzKY4Vqs",
        "outputId": "37978215-6f44-4163-c523-1ebf0ef81aca"
      },
      "execution_count": 3,
      "outputs": [
        {
          "output_type": "stream",
          "name": "stdout",
          "text": [
            "[[-8 -6 -4]\n",
            " [-2  0  2]\n",
            " [ 4  6  8]]\n"
          ]
        },
        {
          "output_type": "execute_result",
          "data": {
            "text/plain": [
              "array([[14.69693846]])"
            ]
          },
          "metadata": {},
          "execution_count": 3
        }
      ]
    },
    {
      "cell_type": "code",
      "source": [
        "# Keepdims = True ( for broadcasting)\n",
        "# Normalization\n",
        "# x/||x||\n",
        "# Before doing DL tasks, images are read as 1D vector.\n",
        "# They are in 3D arrays as matrices, --> converted to 1D vector"
      ],
      "metadata": {
        "id": "HSGHZl5Ng429"
      },
      "execution_count": 4,
      "outputs": []
    },
    {
      "cell_type": "code",
      "source": [
        "# Sigmoid function\n",
        "\n",
        "arr_data = np.arange(50).reshape(-1,1)      # np.reshape(-1,1) --> convert automatically to number of rows\n",
        "arr_data\n",
        "\n",
        "# sigmoid\n",
        "s = 1/(1+np.exp(arr_data))\n",
        "s"
      ],
      "metadata": {
        "colab": {
          "base_uri": "https://localhost:8080/"
        },
        "id": "xfc6OQEvjwKk",
        "outputId": "568b4011-7c63-4e65-9b0f-5e44497a837c"
      },
      "execution_count": 7,
      "outputs": [
        {
          "output_type": "execute_result",
          "data": {
            "text/plain": [
              "array([[5.00000000e-01],\n",
              "       [2.68941421e-01],\n",
              "       [1.19202922e-01],\n",
              "       [4.74258732e-02],\n",
              "       [1.79862100e-02],\n",
              "       [6.69285092e-03],\n",
              "       [2.47262316e-03],\n",
              "       [9.11051194e-04],\n",
              "       [3.35350130e-04],\n",
              "       [1.23394576e-04],\n",
              "       [4.53978687e-05],\n",
              "       [1.67014218e-05],\n",
              "       [6.14417460e-06],\n",
              "       [2.26032430e-06],\n",
              "       [8.31528028e-07],\n",
              "       [3.05902227e-07],\n",
              "       [1.12535162e-07],\n",
              "       [4.13993755e-08],\n",
              "       [1.52299795e-08],\n",
              "       [5.60279641e-09],\n",
              "       [2.06115362e-09],\n",
              "       [7.58256042e-10],\n",
              "       [2.78946809e-10],\n",
              "       [1.02618796e-10],\n",
              "       [3.77513454e-11],\n",
              "       [1.38879439e-11],\n",
              "       [5.10908903e-12],\n",
              "       [1.87952882e-12],\n",
              "       [6.91440011e-13],\n",
              "       [2.54366565e-13],\n",
              "       [9.35762297e-14],\n",
              "       [3.44247711e-14],\n",
              "       [1.26641655e-14],\n",
              "       [4.65888615e-15],\n",
              "       [1.71390843e-15],\n",
              "       [6.30511676e-16],\n",
              "       [2.31952283e-16],\n",
              "       [8.53304763e-17],\n",
              "       [3.13913279e-17],\n",
              "       [1.15482242e-17],\n",
              "       [4.24835426e-18],\n",
              "       [1.56288219e-18],\n",
              "       [5.74952226e-19],\n",
              "       [2.11513104e-19],\n",
              "       [7.78113224e-20],\n",
              "       [2.86251858e-20],\n",
              "       [1.05306174e-20],\n",
              "       [3.87399763e-21],\n",
              "       [1.42516408e-21],\n",
              "       [5.24288566e-22]])"
            ]
          },
          "metadata": {},
          "execution_count": 7
        }
      ]
    }
  ]
}