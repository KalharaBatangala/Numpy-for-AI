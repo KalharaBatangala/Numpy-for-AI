{
  "nbformat": 4,
  "nbformat_minor": 0,
  "metadata": {
    "colab": {
      "provenance": [],
      "authorship_tag": "ABX9TyMaRH4PFDOBWBtfEsv5vKJ8",
      "include_colab_link": true
    },
    "kernelspec": {
      "name": "python3",
      "display_name": "Python 3"
    },
    "language_info": {
      "name": "python"
    }
  },
  "cells": [
    {
      "cell_type": "markdown",
      "metadata": {
        "id": "view-in-github",
        "colab_type": "text"
      },
      "source": [
        "<a href=\"https://colab.research.google.com/github/KalharaBatangala/Numpy-for-AI/blob/main/numpy_calculations.ipynb\" target=\"_parent\"><img src=\"https://colab.research.google.com/assets/colab-badge.svg\" alt=\"Open In Colab\"/></a>"
      ]
    },
    {
      "cell_type": "code",
      "execution_count": 1,
      "metadata": {
        "id": "8v0N8l0G1tpI"
      },
      "outputs": [],
      "source": [
        "import numpy as np\n",
        "import math"
      ]
    },
    {
      "cell_type": "code",
      "source": [
        "arr1 = np.array([[1,2,3],\n",
        "                 [3,2,1]])\n",
        "arr2 = np.array([[6,5],\n",
        "                 [2,4],\n",
        "                 [1,5]])\n",
        "\n",
        "#mul = arr1*arr2\n",
        "#print(mul)\n",
        "#prod = np.multiply(arr1,arr2)\n",
        "#print(prod)\n",
        "dot = np.dot(arr1,arr2)\n",
        "print(dot)"
      ],
      "metadata": {
        "colab": {
          "base_uri": "https://localhost:8080/"
        },
        "id": "WsnWWy6610vP",
        "outputId": "e4d794a0-42de-4406-beff-0f2556ac60d2"
      },
      "execution_count": 18,
      "outputs": [
        {
          "output_type": "stream",
          "name": "stdout",
          "text": [
            "[[13 28]\n",
            " [23 28]]\n"
          ]
        }
      ]
    },
    {
      "cell_type": "code",
      "source": [
        "a = np.arange(9).reshape(3,3)\n",
        "b = np.arange(9)\n",
        "b = np.flip(b).reshape(3,3)\n",
        "\n",
        "diff = a - b\n",
        "print(diff)\n",
        "c = np.linalg.norm(diff, ord=2, keepdims=True) # normalization\n",
        "c"
      ],
      "metadata": {
        "colab": {
          "base_uri": "https://localhost:8080/"
        },
        "id": "BauQVzKY4Vqs",
        "outputId": "3aa63021-3f9e-4e46-f8e1-19a4840d8fa8"
      },
      "execution_count": 32,
      "outputs": [
        {
          "output_type": "stream",
          "name": "stdout",
          "text": [
            "[[-8 -6 -4]\n",
            " [-2  0  2]\n",
            " [ 4  6  8]]\n"
          ]
        },
        {
          "output_type": "execute_result",
          "data": {
            "text/plain": [
              "array([[14.69693846]])"
            ]
          },
          "metadata": {},
          "execution_count": 32
        }
      ]
    }
  ]
}