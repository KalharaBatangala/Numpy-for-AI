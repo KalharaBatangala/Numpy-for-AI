{
  "nbformat": 4,
  "nbformat_minor": 0,
  "metadata": {
    "colab": {
      "provenance": [],
      "authorship_tag": "ABX9TyPxKxrgyExfwXX8fIPWlScR",
      "include_colab_link": true
    },
    "kernelspec": {
      "name": "python3",
      "display_name": "Python 3"
    },
    "language_info": {
      "name": "python"
    }
  },
  "cells": [
    {
      "cell_type": "markdown",
      "metadata": {
        "id": "view-in-github",
        "colab_type": "text"
      },
      "source": [
        "<a href=\"https://colab.research.google.com/github/KalharaBatangala/Numpy-for-AI/blob/main/Numpy_Basics.ipynb\" target=\"_parent\"><img src=\"https://colab.research.google.com/assets/colab-badge.svg\" alt=\"Open In Colab\"/></a>"
      ]
    },
    {
      "cell_type": "code",
      "execution_count": null,
      "metadata": {
        "id": "0sJ_3C-9NyIC"
      },
      "outputs": [],
      "source": [
        "import numpy as np\n",
        "import math"
      ]
    },
    {
      "cell_type": "code",
      "source": [
        "a = np.array([1,2,3])\n",
        "a"
      ],
      "metadata": {
        "colab": {
          "base_uri": "https://localhost:8080/"
        },
        "id": "D9COJPK8N9vS",
        "outputId": "ee39411d-6d3f-4907-f8b3-4d371aa30baa"
      },
      "execution_count": null,
      "outputs": [
        {
          "output_type": "execute_result",
          "data": {
            "text/plain": [
              "array([1, 2, 3])"
            ]
          },
          "metadata": {},
          "execution_count": 3
        }
      ]
    },
    {
      "cell_type": "code",
      "source": [
        "myl = np.array([[2,2,3,4,5],\n",
        "                [2,2,3,4,5]])\n",
        "\n",
        "myl.ndim #Return number of dimensions\n",
        "myl.shape # Return number of elements in each dimension   (2,5)\n",
        "len(myl.shape) == myl.ndim  # Is it the same as no. of dimensions?\n",
        "myl.size   # Total number of elements  (10)\n",
        "math.prod(myl.shape) == myl.size    # no. of elements is each dimension * no. of dimensions\n",
        "\n",
        "myl.dtype"
      ],
      "metadata": {
        "id": "vn1p818kONq1",
        "colab": {
          "base_uri": "https://localhost:8080/"
        },
        "outputId": "c8236661-19ad-4f5b-d6b1-537e50a081d3"
      },
      "execution_count": null,
      "outputs": [
        {
          "output_type": "execute_result",
          "data": {
            "text/plain": [
              "dtype('int64')"
            ]
          },
          "metadata": {},
          "execution_count": 4
        }
      ]
    },
    {
      "cell_type": "markdown",
      "source": [
        "**Create a basic array**"
      ],
      "metadata": {
        "id": "il7wZyxPOVWN"
      }
    },
    {
      "cell_type": "code",
      "source": [
        "array = np.zeros([2,3])\n",
        "array\n",
        "array.shape\n",
        "math.prod(array.shape) == array.size"
      ],
      "metadata": {
        "id": "FBxEfyseOXTV",
        "colab": {
          "base_uri": "https://localhost:8080/"
        },
        "outputId": "479a738e-f0e0-41c7-d47f-d31f210137ba"
      },
      "execution_count": null,
      "outputs": [
        {
          "output_type": "execute_result",
          "data": {
            "text/plain": [
              "True"
            ]
          },
          "metadata": {},
          "execution_count": 5
        }
      ]
    },
    {
      "cell_type": "code",
      "source": [
        "array_ones = np.ones([3,2], dtype=int)\n",
        "array_ones\n",
        "array_ones[1][1] = 5\n",
        "np.sum(array_ones)\n"
      ],
      "metadata": {
        "colab": {
          "base_uri": "https://localhost:8080/"
        },
        "id": "Z0n1Ul50GPwu",
        "outputId": "9198b145-698d-4fc2-e188-3e243baee915"
      },
      "execution_count": null,
      "outputs": [
        {
          "output_type": "execute_result",
          "data": {
            "text/plain": [
              "10"
            ]
          },
          "metadata": {},
          "execution_count": 6
        }
      ]
    },
    {
      "cell_type": "code",
      "source": [
        "# Empty array\n",
        "array_emt = np.empty([3,2])  #Because of speed\n",
        "array_emt\n",
        "\n"
      ],
      "metadata": {
        "colab": {
          "base_uri": "https://localhost:8080/"
        },
        "id": "lxY3zToIGSHx",
        "outputId": "4145f0f1-64c9-49a7-c6ed-eca259832a1f"
      },
      "execution_count": null,
      "outputs": [
        {
          "output_type": "execute_result",
          "data": {
            "text/plain": [
              "array([[4.87743399e-310, 0.00000000e+000],\n",
              "       [6.66126391e-310, 1.62198958e+219],\n",
              "       [3.55727265e-322, 3.45845952e-323]])"
            ]
          },
          "metadata": {},
          "execution_count": 7
        }
      ]
    },
    {
      "cell_type": "code",
      "source": [
        "# Range of elements\n",
        "np.arange(2,9,2)"
      ],
      "metadata": {
        "colab": {
          "base_uri": "https://localhost:8080/"
        },
        "id": "iJ4hnDdVGUdx",
        "outputId": "2b242e7c-f0aa-40c9-e15d-a73102fa7ab2"
      },
      "execution_count": null,
      "outputs": [
        {
          "output_type": "execute_result",
          "data": {
            "text/plain": [
              "array([2, 4, 6, 8])"
            ]
          },
          "metadata": {},
          "execution_count": 8
        }
      ]
    },
    {
      "cell_type": "markdown",
      "source": [
        "**Adding, removing, and sorting elements**"
      ],
      "metadata": {
        "id": "2UgRRiGXIZwd"
      }
    },
    {
      "cell_type": "code",
      "source": [
        "myarr = np.array([1,2,9,4,3,7,1,5,8,2])\n",
        "myarr\n",
        "np.sort(myarr)"
      ],
      "metadata": {
        "colab": {
          "base_uri": "https://localhost:8080/"
        },
        "id": "uOZxqrfiIbQi",
        "outputId": "e5c243c7-b66c-4fc9-b77a-eddada502f38"
      },
      "execution_count": null,
      "outputs": [
        {
          "output_type": "execute_result",
          "data": {
            "text/plain": [
              "array([1, 1, 2, 2, 3, 4, 5, 7, 8, 9])"
            ]
          },
          "metadata": {},
          "execution_count": 9
        }
      ]
    },
    {
      "cell_type": "markdown",
      "source": [
        "Concatinate arrays"
      ],
      "metadata": {
        "id": "nBXD_az3LAok"
      }
    },
    {
      "cell_type": "code",
      "source": [
        "arr1 = np.array([5,6,7])\n",
        "arr2 = np.array([11,24,89])\n",
        "arrfinal = np.concatenate((arr1,arr2))\n",
        "arrfinal"
      ],
      "metadata": {
        "colab": {
          "base_uri": "https://localhost:8080/"
        },
        "id": "0CPBf1a6LDZC",
        "outputId": "96a2aa70-4fe9-47fd-e92c-cbcbd93bf10a"
      },
      "execution_count": null,
      "outputs": [
        {
          "output_type": "execute_result",
          "data": {
            "text/plain": [
              "array([ 5,  6,  7, 11, 24, 89])"
            ]
          },
          "metadata": {},
          "execution_count": 10
        }
      ]
    },
    {
      "cell_type": "code",
      "source": [
        "one = np.array([[1,2,3],[4,5,6],[11,2,45]])\n",
        "two = np.array([[7,6,90]])\n",
        "\n",
        "final = np.concatenate((one,two), axis=0)\n",
        "final"
      ],
      "metadata": {
        "colab": {
          "base_uri": "https://localhost:8080/"
        },
        "id": "xspH-L1JPYDb",
        "outputId": "b32f8e7d-831b-4769-f3b7-201ac7be9c2f"
      },
      "execution_count": null,
      "outputs": [
        {
          "output_type": "execute_result",
          "data": {
            "text/plain": [
              "array([[ 1,  2,  3],\n",
              "       [ 4,  5,  6],\n",
              "       [11,  2, 45],\n",
              "       [ 7,  6, 90]])"
            ]
          },
          "metadata": {},
          "execution_count": 11
        }
      ]
    },
    {
      "cell_type": "code",
      "source": [
        "final2 = np.concatenate((one, two.T), axis=1)\n",
        "final2.shape\n",
        "\n",
        "arr3 = np.array([[[[1,2],\n",
        "                  [3,4],\n",
        "                  [7,5]],\n",
        "\n",
        "                 [[2,3],\n",
        "                 [12,13],\n",
        "                 [54,44]]],\n",
        "\n",
        "                 [[[1,2],\n",
        "                  [3,4],\n",
        "                  [7,5]],\n",
        "\n",
        "                 [[2,3],\n",
        "                 [12,13],\n",
        "                 [54,44]]]])\n",
        "arr3.shape"
      ],
      "metadata": {
        "colab": {
          "base_uri": "https://localhost:8080/"
        },
        "id": "LBo_5jmxlF-Y",
        "outputId": "dca213cc-163d-468c-ea14-439c4928754b"
      },
      "execution_count": null,
      "outputs": [
        {
          "output_type": "execute_result",
          "data": {
            "text/plain": [
              "(2, 2, 3, 2)"
            ]
          },
          "metadata": {},
          "execution_count": 12
        }
      ]
    },
    {
      "cell_type": "code",
      "source": [
        "new_arr = np.arange(12)\n",
        "new_arr.reshape(3,4)"
      ],
      "metadata": {
        "colab": {
          "base_uri": "https://localhost:8080/"
        },
        "id": "M2HivjcKs8Fy",
        "outputId": "7c98f865-996b-4fc5-de84-09b6e197a924"
      },
      "execution_count": null,
      "outputs": [
        {
          "output_type": "execute_result",
          "data": {
            "text/plain": [
              "array([[ 0,  1,  2,  3],\n",
              "       [ 4,  5,  6,  7],\n",
              "       [ 8,  9, 10, 11]])"
            ]
          },
          "metadata": {},
          "execution_count": 13
        }
      ]
    },
    {
      "cell_type": "markdown",
      "source": [
        "**1D array -> 2D array   (Add new axis to array)**"
      ],
      "metadata": {
        "id": "1my6P5oauHWx"
      }
    },
    {
      "cell_type": "code",
      "source": [
        "S_arr = np.arange(7)\n",
        "print(S_arr.shape)\n",
        "#S_arr = S_arr[np.newaxis, :]  # Convert to a row vector\n",
        "S_arr.shape\n",
        "\n",
        "S_col = S_arr[:, np.newaxis]\n",
        "S_col.shape"
      ],
      "metadata": {
        "colab": {
          "base_uri": "https://localhost:8080/"
        },
        "id": "GggKYS5puM5i",
        "outputId": "74f7558a-f060-4dcd-bb70-bd6dc55d3349"
      },
      "execution_count": null,
      "outputs": [
        {
          "output_type": "stream",
          "name": "stdout",
          "text": [
            "(7,)\n"
          ]
        },
        {
          "output_type": "execute_result",
          "data": {
            "text/plain": [
              "(7, 1)"
            ]
          },
          "metadata": {},
          "execution_count": 14
        }
      ]
    },
    {
      "cell_type": "code",
      "source": [
        "data = np.arange(12)\n",
        "data.reshape(3,4)\n",
        "data[data<7]    ## print all values less than 7\n",
        "data[data>7]    ## print all values greater than 7\n",
        "data[(data%2==0) & (data>3)]    ## Satisfy both the conditions divisible by 2 & (>3)"
      ],
      "metadata": {
        "colab": {
          "base_uri": "https://localhost:8080/"
        },
        "id": "bbRdayCG1Lvc",
        "outputId": "ad84ab6c-850e-4e3c-dabf-e93efc6596d2"
      },
      "execution_count": null,
      "outputs": [
        {
          "output_type": "execute_result",
          "data": {
            "text/plain": [
              "array([ 4,  6,  8, 10])"
            ]
          },
          "metadata": {},
          "execution_count": 15
        }
      ]
    },
    {
      "cell_type": "markdown",
      "source": [
        "**create an array from existing data**"
      ],
      "metadata": {
        "id": "K10vBMwx47yB"
      }
    },
    {
      "cell_type": "code",
      "source": [
        "a = np.array([1,  2,  3,  4,  5,  6,  7,  8,  9, 10])\n",
        "\n",
        "b = a[3:8]   ## From Index position 3 through (not included 8) index positon 8\n",
        "b"
      ],
      "metadata": {
        "colab": {
          "base_uri": "https://localhost:8080/"
        },
        "id": "qJgdJd8f60A_",
        "outputId": "6620a5a6-7194-47c1-9738-71a1dbfa845a"
      },
      "execution_count": null,
      "outputs": [
        {
          "output_type": "execute_result",
          "data": {
            "text/plain": [
              "array([4, 5, 6, 7, 8])"
            ]
          },
          "metadata": {},
          "execution_count": 16
        }
      ]
    },
    {
      "cell_type": "code",
      "source": [
        "## Stack two arrays\n",
        "\n",
        "a1 = np.array([[1, 1],\n",
        "               [2, 2]])\n",
        "\n",
        "a2 = np.array([[3, 3],\n",
        "               [4, 4]])\n",
        "\n",
        "a3 = np.hstack((a1, a2))\n",
        "a3"
      ],
      "metadata": {
        "colab": {
          "base_uri": "https://localhost:8080/"
        },
        "id": "532Xb08E8BKV",
        "outputId": "d9e4e038-275d-4684-a9d9-126b6ab0af83"
      },
      "execution_count": null,
      "outputs": [
        {
          "output_type": "execute_result",
          "data": {
            "text/plain": [
              "array([[1, 1, 3, 3],\n",
              "       [2, 2, 4, 4]])"
            ]
          },
          "metadata": {},
          "execution_count": 17
        }
      ]
    },
    {
      "cell_type": "code",
      "source": [
        "myarray = np.arange(1,19).reshape(3,6)\n",
        "print(myarray)\n",
        "np.vsplit(myarray, 3)"
      ],
      "metadata": {
        "colab": {
          "base_uri": "https://localhost:8080/"
        },
        "id": "40coKZsS8dQF",
        "outputId": "0fe91da3-873a-4e09-faca-9254938a55ad"
      },
      "execution_count": null,
      "outputs": [
        {
          "output_type": "stream",
          "name": "stdout",
          "text": [
            "[[ 1  2  3  4  5  6]\n",
            " [ 7  8  9 10 11 12]\n",
            " [13 14 15 16 17 18]]\n"
          ]
        },
        {
          "output_type": "execute_result",
          "data": {
            "text/plain": [
              "[array([[1, 2, 3, 4, 5, 6]]),\n",
              " array([[ 7,  8,  9, 10, 11, 12]]),\n",
              " array([[13, 14, 15, 16, 17, 18]])]"
            ]
          },
          "metadata": {},
          "execution_count": 18
        }
      ]
    },
    {
      "cell_type": "markdown",
      "source": [
        "**Views (a shallow copy)**"
      ],
      "metadata": {
        "id": "EOZHwbxZ9oRN"
      }
    },
    {
      "cell_type": "markdown",
      "source": [
        "* important NumPy concept\n",
        "*saves memory and is faster\n",
        "*modifying data in a view also modifies the original array!\n"
      ],
      "metadata": {
        "id": "wHEfSWXl9uXm"
      }
    },
    {
      "cell_type": "code",
      "source": [
        "a = np.array([[1, 2, 3, 4], [5, 6, 7, 8], [9, 10, 11, 12]])\n",
        "b1 = a[0, :]\n",
        "b1[0] = 99\n",
        "\n",
        "a"
      ],
      "metadata": {
        "colab": {
          "base_uri": "https://localhost:8080/"
        },
        "id": "t5BVNpXL9qNu",
        "outputId": "58fd5297-17f3-40f3-8202-c2b7247118a4"
      },
      "execution_count": null,
      "outputs": [
        {
          "output_type": "execute_result",
          "data": {
            "text/plain": [
              "array([[99,  2,  3,  4],\n",
              "       [ 5,  6,  7,  8],\n",
              "       [ 9, 10, 11, 12]])"
            ]
          },
          "metadata": {},
          "execution_count": 19
        }
      ]
    },
    {
      "cell_type": "markdown",
      "source": [
        "**Basic array operations**"
      ],
      "metadata": {
        "id": "J-fah5i-_X2w"
      }
    },
    {
      "cell_type": "code",
      "source": [
        "ones = np.ones([3,4], dtype=int)\n",
        "twos = np.ones([3,4], dtype=int)*2\n",
        "twos.sum(axis=1)    ## Summing along horizontal axis\n",
        "twos.sum(axis=0)    ## Summming along vertical axis"
      ],
      "metadata": {
        "colab": {
          "base_uri": "https://localhost:8080/"
        },
        "id": "W_hcTzha_Y-k",
        "outputId": "ace23a59-cf6f-4cb8-f054-1c3e5c92c990"
      },
      "execution_count": null,
      "outputs": [
        {
          "output_type": "execute_result",
          "data": {
            "text/plain": [
              "array([6, 6, 6, 6])"
            ]
          },
          "metadata": {},
          "execution_count": 20
        }
      ]
    },
    {
      "cell_type": "code",
      "source": [
        "nw_a = np.array([1,2,3,4,5,6])\n",
        "nw_a.max()\n",
        "nw_a.mean()"
      ],
      "metadata": {
        "colab": {
          "base_uri": "https://localhost:8080/"
        },
        "id": "cSknkFJl3_8E",
        "outputId": "203a3623-0d36-41e9-9f80-b7e7c45da49d"
      },
      "execution_count": null,
      "outputs": [
        {
          "output_type": "execute_result",
          "data": {
            "text/plain": [
              "3.5"
            ]
          },
          "metadata": {},
          "execution_count": 23
        }
      ]
    },
    {
      "cell_type": "code",
      "source": [
        "Tq = np.arange(12)\n",
        "\n",
        "Tq = Tq.reshape(3,4)\n",
        "sum = Tq.sum(axis=1)\n",
        "sum"
      ],
      "metadata": {
        "colab": {
          "base_uri": "https://localhost:8080/"
        },
        "id": "1aXzITwnjK_x",
        "outputId": "c9a9ead5-8378-4115-c84e-c8182a598997"
      },
      "execution_count": null,
      "outputs": [
        {
          "output_type": "execute_result",
          "data": {
            "text/plain": [
              "array([ 6, 22, 38])"
            ]
          },
          "metadata": {},
          "execution_count": 31
        }
      ]
    }
  ]
}