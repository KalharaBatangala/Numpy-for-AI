{
  "nbformat": 4,
  "nbformat_minor": 0,
  "metadata": {
    "colab": {
      "provenance": [],
      "authorship_tag": "ABX9TyPOTvEtw8M6ym1IdceYim5R",
      "include_colab_link": true
    },
    "kernelspec": {
      "name": "python3",
      "display_name": "Python 3"
    },
    "language_info": {
      "name": "python"
    }
  },
  "cells": [
    {
      "cell_type": "markdown",
      "metadata": {
        "id": "view-in-github",
        "colab_type": "text"
      },
      "source": [
        "<a href=\"https://colab.research.google.com/github/KalharaBatangala/Numpy-for-AI/blob/main/Numpy_Basics.ipynb\" target=\"_parent\"><img src=\"https://colab.research.google.com/assets/colab-badge.svg\" alt=\"Open In Colab\"/></a>"
      ]
    },
    {
      "cell_type": "code",
      "execution_count": 1,
      "metadata": {
        "id": "0sJ_3C-9NyIC"
      },
      "outputs": [],
      "source": [
        "import numpy as np\n",
        "import math"
      ]
    },
    {
      "cell_type": "code",
      "source": [
        "a = np.array([1,2,3])\n",
        "a"
      ],
      "metadata": {
        "colab": {
          "base_uri": "https://localhost:8080/"
        },
        "id": "D9COJPK8N9vS",
        "outputId": "11275654-1fd1-40ba-b9d5-9e5994c8c97c"
      },
      "execution_count": 2,
      "outputs": [
        {
          "output_type": "execute_result",
          "data": {
            "text/plain": [
              "array([1, 2, 3])"
            ]
          },
          "metadata": {},
          "execution_count": 2
        }
      ]
    },
    {
      "cell_type": "code",
      "source": [
        "myl = np.array([[2,2,3,4,5],\n",
        "                [2,2,3,4,5]])\n",
        "\n",
        "myl.ndim #Return number of dimensions\n",
        "myl.shape # Return number of elements in each dimension   (2,5)\n",
        "len(myl.shape) == myl.ndim  # Is it the same as no. of dimensions?\n",
        "myl.size   # Total number of elements  (10)\n",
        "math.prod(myl.shape) == myl.size    # no. of elements is each dimension * no. of dimensions\n",
        "\n",
        "myl.dtype"
      ],
      "metadata": {
        "id": "vn1p818kONq1",
        "colab": {
          "base_uri": "https://localhost:8080/"
        },
        "outputId": "255db322-c5fb-4268-b095-d71193a9d034"
      },
      "execution_count": 3,
      "outputs": [
        {
          "output_type": "execute_result",
          "data": {
            "text/plain": [
              "dtype('int64')"
            ]
          },
          "metadata": {},
          "execution_count": 3
        }
      ]
    },
    {
      "cell_type": "markdown",
      "source": [
        "**Create a basic array**"
      ],
      "metadata": {
        "id": "il7wZyxPOVWN"
      }
    },
    {
      "cell_type": "code",
      "source": [
        "array = np.zeros([2,3])\n",
        "array\n",
        "array.shape\n",
        "math.prod(array.shape) == array.size"
      ],
      "metadata": {
        "id": "FBxEfyseOXTV",
        "colab": {
          "base_uri": "https://localhost:8080/"
        },
        "outputId": "08b2d323-62c9-4854-d93a-ad02714fbd90"
      },
      "execution_count": 4,
      "outputs": [
        {
          "output_type": "execute_result",
          "data": {
            "text/plain": [
              "True"
            ]
          },
          "metadata": {},
          "execution_count": 4
        }
      ]
    },
    {
      "cell_type": "code",
      "source": [
        "array_ones = np.ones([3,2], dtype=int)\n",
        "array_ones\n",
        "array_ones[1][1] = 5\n",
        "np.sum(array_ones)\n"
      ],
      "metadata": {
        "colab": {
          "base_uri": "https://localhost:8080/"
        },
        "id": "Z0n1Ul50GPwu",
        "outputId": "34e048b7-b6b3-4d5f-91d8-9937843bcad3"
      },
      "execution_count": 5,
      "outputs": [
        {
          "output_type": "execute_result",
          "data": {
            "text/plain": [
              "10"
            ]
          },
          "metadata": {},
          "execution_count": 5
        }
      ]
    },
    {
      "cell_type": "code",
      "source": [
        "# Empty array\n",
        "array_emt = np.empty([3,2])  #Because of speed\n",
        "array_emt\n",
        "\n"
      ],
      "metadata": {
        "colab": {
          "base_uri": "https://localhost:8080/"
        },
        "id": "lxY3zToIGSHx",
        "outputId": "c938e436-5a7d-4764-c14c-043ddbdb7b8a"
      },
      "execution_count": 6,
      "outputs": [
        {
          "output_type": "execute_result",
          "data": {
            "text/plain": [
              "array([[4.83214555e-310, 0.00000000e+000],\n",
              "       [5.82634115e+303, 5.82634115e+303],\n",
              "       [5.82634115e+303, 5.82634115e+303]])"
            ]
          },
          "metadata": {},
          "execution_count": 6
        }
      ]
    },
    {
      "cell_type": "code",
      "source": [
        "# Range of elements\n",
        "np.arange(2,9,2)"
      ],
      "metadata": {
        "colab": {
          "base_uri": "https://localhost:8080/"
        },
        "id": "iJ4hnDdVGUdx",
        "outputId": "1ea77082-3b5a-4f92-d5c9-4fd81d6386d2"
      },
      "execution_count": 7,
      "outputs": [
        {
          "output_type": "execute_result",
          "data": {
            "text/plain": [
              "array([2, 4, 6, 8])"
            ]
          },
          "metadata": {},
          "execution_count": 7
        }
      ]
    },
    {
      "cell_type": "markdown",
      "source": [
        "**Adding, removing, and sorting elements**"
      ],
      "metadata": {
        "id": "2UgRRiGXIZwd"
      }
    },
    {
      "cell_type": "code",
      "source": [
        "myarr = np.array([1,2,9,4,3,7,1,5,8,2])\n",
        "myarr\n",
        "np.sort(myarr)"
      ],
      "metadata": {
        "colab": {
          "base_uri": "https://localhost:8080/"
        },
        "id": "uOZxqrfiIbQi",
        "outputId": "3f31c3a1-96de-413a-f83a-0cea8374e85d"
      },
      "execution_count": 8,
      "outputs": [
        {
          "output_type": "execute_result",
          "data": {
            "text/plain": [
              "array([1, 1, 2, 2, 3, 4, 5, 7, 8, 9])"
            ]
          },
          "metadata": {},
          "execution_count": 8
        }
      ]
    },
    {
      "cell_type": "markdown",
      "source": [
        "Concatinate arrays"
      ],
      "metadata": {
        "id": "nBXD_az3LAok"
      }
    },
    {
      "cell_type": "code",
      "source": [
        "arr1 = np.array([5,6,7])\n",
        "arr2 = np.array([11,24,89])\n",
        "arrfinal = np.concatenate((arr1,arr2))\n",
        "arrfinal"
      ],
      "metadata": {
        "colab": {
          "base_uri": "https://localhost:8080/"
        },
        "id": "0CPBf1a6LDZC",
        "outputId": "a74e8e64-d5f7-4f7c-bf1e-4d34989e3505"
      },
      "execution_count": 9,
      "outputs": [
        {
          "output_type": "execute_result",
          "data": {
            "text/plain": [
              "array([ 5,  6,  7, 11, 24, 89])"
            ]
          },
          "metadata": {},
          "execution_count": 9
        }
      ]
    },
    {
      "cell_type": "code",
      "source": [
        "one = np.array([[1,2,3],[4,5,6],[11,2,45]])\n",
        "two = np.array([[7,6,90]])\n",
        "\n",
        "final = np.concatenate((one,two), axis=0)\n",
        "final"
      ],
      "metadata": {
        "colab": {
          "base_uri": "https://localhost:8080/"
        },
        "id": "xspH-L1JPYDb",
        "outputId": "26c32538-1f4c-4538-b66b-f687c8d2cab0"
      },
      "execution_count": 10,
      "outputs": [
        {
          "output_type": "execute_result",
          "data": {
            "text/plain": [
              "array([[ 1,  2,  3],\n",
              "       [ 4,  5,  6],\n",
              "       [11,  2, 45],\n",
              "       [ 7,  6, 90]])"
            ]
          },
          "metadata": {},
          "execution_count": 10
        }
      ]
    },
    {
      "cell_type": "code",
      "source": [
        "final2 = np.concatenate((one, two.T), axis=1)\n",
        "final2.shape\n",
        "\n",
        "arr3 = np.array([[[[1,2],\n",
        "                  [3,4],\n",
        "                  [7,5]],\n",
        "\n",
        "                 [[2,3],\n",
        "                 [12,13],\n",
        "                 [54,44]]],\n",
        "\n",
        "                 [[[1,2],\n",
        "                  [3,4],\n",
        "                  [7,5]],\n",
        "\n",
        "                 [[2,3],\n",
        "                 [12,13],\n",
        "                 [54,44]]]])\n",
        "arr3.shape"
      ],
      "metadata": {
        "colab": {
          "base_uri": "https://localhost:8080/"
        },
        "id": "LBo_5jmxlF-Y",
        "outputId": "602b4252-f14d-448d-e265-f2299149613c"
      },
      "execution_count": 11,
      "outputs": [
        {
          "output_type": "execute_result",
          "data": {
            "text/plain": [
              "(2, 2, 3, 2)"
            ]
          },
          "metadata": {},
          "execution_count": 11
        }
      ]
    },
    {
      "cell_type": "code",
      "source": [
        "new_arr = np.arange(12)\n",
        "new_arr.reshape(3,4)"
      ],
      "metadata": {
        "colab": {
          "base_uri": "https://localhost:8080/"
        },
        "id": "M2HivjcKs8Fy",
        "outputId": "5bc3649e-d370-4f66-c795-53470d2fb271"
      },
      "execution_count": 12,
      "outputs": [
        {
          "output_type": "execute_result",
          "data": {
            "text/plain": [
              "array([[ 0,  1,  2,  3],\n",
              "       [ 4,  5,  6,  7],\n",
              "       [ 8,  9, 10, 11]])"
            ]
          },
          "metadata": {},
          "execution_count": 12
        }
      ]
    },
    {
      "cell_type": "markdown",
      "source": [
        "**1D array -> 2D array   (Add new axis to array)**"
      ],
      "metadata": {
        "id": "1my6P5oauHWx"
      }
    },
    {
      "cell_type": "code",
      "source": [
        "S_arr = np.arange(7)\n",
        "print(S_arr.shape)\n",
        "#S_arr = S_arr[np.newaxis, :]  # Convert to a row vector\n",
        "S_arr.shape\n",
        "\n",
        "S_col = S_arr[:, np.newaxis]\n",
        "S_col.shape"
      ],
      "metadata": {
        "colab": {
          "base_uri": "https://localhost:8080/"
        },
        "id": "GggKYS5puM5i",
        "outputId": "7a25ddcf-65ba-4ff5-9639-886e35e0db54"
      },
      "execution_count": 13,
      "outputs": [
        {
          "output_type": "stream",
          "name": "stdout",
          "text": [
            "(7,)\n"
          ]
        },
        {
          "output_type": "execute_result",
          "data": {
            "text/plain": [
              "(7, 1)"
            ]
          },
          "metadata": {},
          "execution_count": 13
        }
      ]
    },
    {
      "cell_type": "code",
      "source": [
        "data = np.arange(12)\n",
        "data.reshape(3,4)\n",
        "data[data<7]    ## print all values less than 7\n",
        "data[data>7]    ## print all values greater than 7\n",
        "data[(data%2==0) & (data>3)]    ## Satisfy both the conditions divisible by 2 & (>3)"
      ],
      "metadata": {
        "colab": {
          "base_uri": "https://localhost:8080/"
        },
        "id": "bbRdayCG1Lvc",
        "outputId": "3be589aa-c617-49fb-ecf2-4539ed02d24b"
      },
      "execution_count": 14,
      "outputs": [
        {
          "output_type": "execute_result",
          "data": {
            "text/plain": [
              "array([ 4,  6,  8, 10])"
            ]
          },
          "metadata": {},
          "execution_count": 14
        }
      ]
    },
    {
      "cell_type": "markdown",
      "source": [
        "**create an array from existing data**"
      ],
      "metadata": {
        "id": "K10vBMwx47yB"
      }
    },
    {
      "cell_type": "code",
      "source": [
        "a = np.array([1,  2,  3,  4,  5,  6,  7,  8,  9, 10])\n",
        "\n",
        "b = a[3:8]   ## From Index position 3 through (not included 8) index positon 8\n",
        "b"
      ],
      "metadata": {
        "colab": {
          "base_uri": "https://localhost:8080/"
        },
        "id": "qJgdJd8f60A_",
        "outputId": "ffb6e665-169a-425d-f6e8-b750ec2e4ef0"
      },
      "execution_count": 15,
      "outputs": [
        {
          "output_type": "execute_result",
          "data": {
            "text/plain": [
              "array([4, 5, 6, 7, 8])"
            ]
          },
          "metadata": {},
          "execution_count": 15
        }
      ]
    },
    {
      "cell_type": "code",
      "source": [
        "## Stack two arrays\n",
        "\n",
        "a1 = np.array([[1, 1],\n",
        "               [2, 2]])\n",
        "\n",
        "a2 = np.array([[3, 3],\n",
        "               [4, 4]])\n",
        "\n",
        "a3 = np.hstack((a1, a2))\n",
        "a3"
      ],
      "metadata": {
        "colab": {
          "base_uri": "https://localhost:8080/"
        },
        "id": "532Xb08E8BKV",
        "outputId": "cb44e33f-329b-405d-bc8b-8ff2c6a857cc"
      },
      "execution_count": 16,
      "outputs": [
        {
          "output_type": "execute_result",
          "data": {
            "text/plain": [
              "array([[1, 1, 3, 3],\n",
              "       [2, 2, 4, 4]])"
            ]
          },
          "metadata": {},
          "execution_count": 16
        }
      ]
    },
    {
      "cell_type": "code",
      "source": [
        "myarray = np.arange(1,19).reshape(3,6)\n",
        "print(myarray)\n",
        "np.vsplit(myarray, 3)"
      ],
      "metadata": {
        "colab": {
          "base_uri": "https://localhost:8080/"
        },
        "id": "40coKZsS8dQF",
        "outputId": "a909505b-5507-4e54-e817-c095ee3679e9"
      },
      "execution_count": 17,
      "outputs": [
        {
          "output_type": "stream",
          "name": "stdout",
          "text": [
            "[[ 1  2  3  4  5  6]\n",
            " [ 7  8  9 10 11 12]\n",
            " [13 14 15 16 17 18]]\n"
          ]
        },
        {
          "output_type": "execute_result",
          "data": {
            "text/plain": [
              "[array([[1, 2, 3, 4, 5, 6]]),\n",
              " array([[ 7,  8,  9, 10, 11, 12]]),\n",
              " array([[13, 14, 15, 16, 17, 18]])]"
            ]
          },
          "metadata": {},
          "execution_count": 17
        }
      ]
    },
    {
      "cell_type": "markdown",
      "source": [
        "**Views (a shallow copy)**"
      ],
      "metadata": {
        "id": "EOZHwbxZ9oRN"
      }
    },
    {
      "cell_type": "markdown",
      "source": [
        "* important NumPy concept\n",
        "*saves memory and is faster\n",
        "*modifying data in a view also modifies the original array!\n"
      ],
      "metadata": {
        "id": "wHEfSWXl9uXm"
      }
    },
    {
      "cell_type": "code",
      "source": [
        "a = np.array([[1, 2, 3, 4], [5, 6, 7, 8], [9, 10, 11, 12]])\n",
        "b1 = a[0, :]\n",
        "b1[0] = 99\n",
        "\n",
        "a"
      ],
      "metadata": {
        "colab": {
          "base_uri": "https://localhost:8080/"
        },
        "id": "t5BVNpXL9qNu",
        "outputId": "1d36ff57-360e-4b5b-a98d-b790e6349c72"
      },
      "execution_count": 18,
      "outputs": [
        {
          "output_type": "execute_result",
          "data": {
            "text/plain": [
              "array([[99,  2,  3,  4],\n",
              "       [ 5,  6,  7,  8],\n",
              "       [ 9, 10, 11, 12]])"
            ]
          },
          "metadata": {},
          "execution_count": 18
        }
      ]
    },
    {
      "cell_type": "markdown",
      "source": [
        "**Basic array operations**"
      ],
      "metadata": {
        "id": "J-fah5i-_X2w"
      }
    },
    {
      "cell_type": "code",
      "source": [
        "ones = np.ones([3,4], dtype=int)\n",
        "twos = np.ones([3,4], dtype=int)*2\n",
        "twos.sum(axis=1)    ## Summing along horizontal axis\n",
        "twos.sum(axis=0)    ## Summming along vertical axis"
      ],
      "metadata": {
        "colab": {
          "base_uri": "https://localhost:8080/"
        },
        "id": "W_hcTzha_Y-k",
        "outputId": "66180d58-4986-4590-dd13-09a5d9a06e42"
      },
      "execution_count": 19,
      "outputs": [
        {
          "output_type": "execute_result",
          "data": {
            "text/plain": [
              "array([6, 6, 6, 6])"
            ]
          },
          "metadata": {},
          "execution_count": 19
        }
      ]
    },
    {
      "cell_type": "code",
      "source": [
        "nw_a = np.array([1,2,3,4,5,6])\n",
        "nw_a.max()\n",
        "nw_a.mean()"
      ],
      "metadata": {
        "colab": {
          "base_uri": "https://localhost:8080/"
        },
        "id": "cSknkFJl3_8E",
        "outputId": "c4647269-e305-4330-947a-43aab60f4ef4"
      },
      "execution_count": 20,
      "outputs": [
        {
          "output_type": "execute_result",
          "data": {
            "text/plain": [
              "3.5"
            ]
          },
          "metadata": {},
          "execution_count": 20
        }
      ]
    },
    {
      "cell_type": "code",
      "source": [
        "Tq = np.arange(12)\n",
        "\n",
        "Tq = Tq.reshape(3,4)\n",
        "sum = Tq.sum(axis=1)\n",
        "print(Tq)\n",
        "sum"
      ],
      "metadata": {
        "colab": {
          "base_uri": "https://localhost:8080/"
        },
        "id": "1aXzITwnjK_x",
        "outputId": "c8f62d31-c703-4b4d-906c-6de7821699db"
      },
      "execution_count": 21,
      "outputs": [
        {
          "output_type": "stream",
          "name": "stdout",
          "text": [
            "[[ 0  1  2  3]\n",
            " [ 4  5  6  7]\n",
            " [ 8  9 10 11]]\n"
          ]
        },
        {
          "output_type": "execute_result",
          "data": {
            "text/plain": [
              "array([ 6, 22, 38])"
            ]
          },
          "metadata": {},
          "execution_count": 21
        }
      ]
    },
    {
      "cell_type": "code",
      "source": [
        "hnz = np.array([1,2,3,3,9,8,66,7,3,23,8,1,90,3,7,66,23,11,2,3,66])\n",
        "np.unique(hnz)        ## Print uniqu values in an array\n",
        "unival, ind = np.unique(hnz, return_index=True)\n",
        "print(unival)\n",
        "print(ind)"
      ],
      "metadata": {
        "colab": {
          "base_uri": "https://localhost:8080/"
        },
        "id": "MczRR7ippPNE",
        "outputId": "59f7148c-9157-42b1-f9bd-fcb3ea1f13ac"
      },
      "execution_count": 22,
      "outputs": [
        {
          "output_type": "stream",
          "name": "stdout",
          "text": [
            "[ 1  2  3  7  8  9 11 23 66 90]\n",
            "[ 0  1  2  7  5  4 17  9  6 12]\n"
          ]
        }
      ]
    },
    {
      "cell_type": "markdown",
      "source": [
        "**Transposing and reshaping a matrix**"
      ],
      "metadata": {
        "id": "49UC0c9wquEv"
      }
    },
    {
      "cell_type": "code",
      "source": [
        "mat = np.array([[1,2,3],\n",
        "                [4,5,6],\n",
        "                [7,8,9]])\n",
        "## Reshape\n",
        "reshp = mat.reshape( 1,9)\n",
        "print(reshp)\n",
        "mat.T     ## Transpose of the matrix\n",
        "\n",
        "\n",
        "## Flip the matrix\n",
        "flipped = np.flip(reshp)\n",
        "flipped"
      ],
      "metadata": {
        "colab": {
          "base_uri": "https://localhost:8080/"
        },
        "id": "7luDPyLdqvDm",
        "outputId": "18576433-92d6-4ea1-a0ed-bb880fa9b7b4"
      },
      "execution_count": 23,
      "outputs": [
        {
          "output_type": "stream",
          "name": "stdout",
          "text": [
            "[[1 2 3 4 5 6 7 8 9]]\n"
          ]
        },
        {
          "output_type": "execute_result",
          "data": {
            "text/plain": [
              "array([[9, 8, 7, 6, 5, 4, 3, 2, 1]])"
            ]
          },
          "metadata": {},
          "execution_count": 23
        }
      ]
    },
    {
      "cell_type": "code",
      "source": [
        "arr2d = np.arange(12).reshape(3,4)\n",
        "print(arr2d)\n",
        "reverse2d = np.flip(arr2d, axis=0)\n",
        "reverse2d\n",
        "\n",
        "## You can flip only one row also\n",
        "# reversed2d_one = arr2d\n",
        "# reversed2d_one[1] = np.flip(arr2d[1])\n",
        "# reversed2d_one"
      ],
      "metadata": {
        "colab": {
          "base_uri": "https://localhost:8080/"
        },
        "id": "PHfKssDS5kgf",
        "outputId": "a0ea4ab7-c1e2-4ed5-ea51-de2034dfb8ed"
      },
      "execution_count": 24,
      "outputs": [
        {
          "output_type": "stream",
          "name": "stdout",
          "text": [
            "[[ 0  1  2  3]\n",
            " [ 4  5  6  7]\n",
            " [ 8  9 10 11]]\n"
          ]
        },
        {
          "output_type": "execute_result",
          "data": {
            "text/plain": [
              "array([[ 8,  9, 10, 11],\n",
              "       [ 4,  5,  6,  7],\n",
              "       [ 0,  1,  2,  3]])"
            ]
          },
          "metadata": {},
          "execution_count": 24
        }
      ]
    },
    {
      "cell_type": "markdown",
      "source": [
        "**Flattening multidimensional arrays**"
      ],
      "metadata": {
        "id": "ioLrMh4A76Qb"
      }
    },
    {
      "cell_type": "code",
      "source": [
        "U = np.arange(1,13).reshape(3,4)\n",
        "print(U.flatten())\n",
        "U       ## If you used ravel function, changes reflects to parent array also"
      ],
      "metadata": {
        "colab": {
          "base_uri": "https://localhost:8080/"
        },
        "id": "6re-_UC_79FM",
        "outputId": "139131a0-9997-4cbc-c313-3ee1e96435fb"
      },
      "execution_count": 25,
      "outputs": [
        {
          "output_type": "stream",
          "name": "stdout",
          "text": [
            "[ 1  2  3  4  5  6  7  8  9 10 11 12]\n"
          ]
        },
        {
          "output_type": "execute_result",
          "data": {
            "text/plain": [
              "array([[ 1,  2,  3,  4],\n",
              "       [ 5,  6,  7,  8],\n",
              "       [ 9, 10, 11, 12]])"
            ]
          },
          "metadata": {},
          "execution_count": 25
        }
      ]
    },
    {
      "cell_type": "markdown",
      "source": [
        "**Working with mathematical formulas**"
      ],
      "metadata": {
        "id": "SB82dCwQhAh7"
      }
    },
    {
      "cell_type": "code",
      "source": [
        "## Mean Square Error\n",
        "pred = np.arange(1,13).reshape(3,4)\n",
        "print(\"pred:\",pred)\n",
        "y = np.flip(pred).reshape(3,4)\n",
        "print(\"y:\",y)\n",
        "array_size = np.size(pred)\n",
        "\n",
        "MSE = (1/array_size) * np.sum(np.square(pred-y))\n",
        "MSE"
      ],
      "metadata": {
        "colab": {
          "base_uri": "https://localhost:8080/"
        },
        "id": "L62mbPvvhF9y",
        "outputId": "2ebb771f-7541-418e-93ad-1f963b50ec86"
      },
      "execution_count": 34,
      "outputs": [
        {
          "output_type": "stream",
          "name": "stdout",
          "text": [
            "pred: [[ 1  2  3  4]\n",
            " [ 5  6  7  8]\n",
            " [ 9 10 11 12]]\n",
            "y: [[12 11 10  9]\n",
            " [ 8  7  6  5]\n",
            " [ 4  3  2  1]]\n"
          ]
        },
        {
          "output_type": "execute_result",
          "data": {
            "text/plain": [
              "47.666666666666664"
            ]
          },
          "metadata": {},
          "execution_count": 34
        }
      ]
    }
  ]
}