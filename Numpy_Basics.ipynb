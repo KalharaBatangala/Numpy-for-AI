{
  "nbformat": 4,
  "nbformat_minor": 0,
  "metadata": {
    "colab": {
      "provenance": [],
      "authorship_tag": "ABX9TyPOTvEtw8M6ym1IdceYim5R",
      "include_colab_link": true
    },
    "kernelspec": {
      "name": "python3",
      "display_name": "Python 3"
    },
    "language_info": {
      "name": "python"
    }
  },
  "cells": [
    {
      "cell_type": "markdown",
      "metadata": {
        "id": "view-in-github",
        "colab_type": "text"
      },
      "source": [
        "<a href=\"https://colab.research.google.com/github/KalharaBatangala/Numpy-for-AI/blob/main/Numpy_Basics.ipynb\" target=\"_parent\"><img src=\"https://colab.research.google.com/assets/colab-badge.svg\" alt=\"Open In Colab\"/></a>"
      ]
    },
    {
      "cell_type": "code",
      "execution_count": 35,
      "metadata": {
        "id": "0sJ_3C-9NyIC"
      },
      "outputs": [],
      "source": [
        "import numpy as np\n",
        "import math"
      ]
    },
    {
      "cell_type": "code",
      "source": [
        "a = np.array([1,2,3])\n",
        "a"
      ],
      "metadata": {
        "colab": {
          "base_uri": "https://localhost:8080/"
        },
        "id": "D9COJPK8N9vS",
        "outputId": "0574141b-2b8d-4372-c98f-bced8e498913"
      },
      "execution_count": 36,
      "outputs": [
        {
          "output_type": "execute_result",
          "data": {
            "text/plain": [
              "array([1, 2, 3])"
            ]
          },
          "metadata": {},
          "execution_count": 36
        }
      ]
    },
    {
      "cell_type": "code",
      "source": [
        "myl = np.array([[2,2,3,4,5],\n",
        "                [2,2,3,4,5]])\n",
        "\n",
        "myl.ndim #Return number of dimensions\n",
        "myl.shape # Return number of elements in each dimension   (2,5)\n",
        "len(myl.shape) == myl.ndim  # Is it the same as no. of dimensions?\n",
        "myl.size   # Total number of elements  (10)\n",
        "math.prod(myl.shape) == myl.size    # no. of elements is each dimension * no. of dimensions\n",
        "\n",
        "myl.dtype"
      ],
      "metadata": {
        "id": "vn1p818kONq1",
        "colab": {
          "base_uri": "https://localhost:8080/"
        },
        "outputId": "61081227-f308-4296-e603-b0d993d1bc5b"
      },
      "execution_count": 37,
      "outputs": [
        {
          "output_type": "execute_result",
          "data": {
            "text/plain": [
              "dtype('int64')"
            ]
          },
          "metadata": {},
          "execution_count": 37
        }
      ]
    },
    {
      "cell_type": "markdown",
      "source": [
        "**Create a basic array**"
      ],
      "metadata": {
        "id": "il7wZyxPOVWN"
      }
    },
    {
      "cell_type": "code",
      "source": [
        "array = np.zeros([2,3])\n",
        "array\n",
        "array.shape\n",
        "math.prod(array.shape) == array.size"
      ],
      "metadata": {
        "id": "FBxEfyseOXTV",
        "colab": {
          "base_uri": "https://localhost:8080/"
        },
        "outputId": "bb6c0515-956a-46b7-9ea1-1e8be009dff4"
      },
      "execution_count": 38,
      "outputs": [
        {
          "output_type": "execute_result",
          "data": {
            "text/plain": [
              "True"
            ]
          },
          "metadata": {},
          "execution_count": 38
        }
      ]
    },
    {
      "cell_type": "code",
      "source": [
        "array_ones = np.ones([3,2], dtype=int)\n",
        "array_ones\n",
        "array_ones[1][1] = 5\n",
        "np.sum(array_ones)\n"
      ],
      "metadata": {
        "colab": {
          "base_uri": "https://localhost:8080/"
        },
        "id": "Z0n1Ul50GPwu",
        "outputId": "df4c5914-17b7-434b-d99d-d30b5957ef1e"
      },
      "execution_count": 39,
      "outputs": [
        {
          "output_type": "execute_result",
          "data": {
            "text/plain": [
              "10"
            ]
          },
          "metadata": {},
          "execution_count": 39
        }
      ]
    },
    {
      "cell_type": "code",
      "source": [
        "# Empty array\n",
        "array_emt = np.empty([3,2])  #Because of speed\n",
        "array_emt\n",
        "\n"
      ],
      "metadata": {
        "colab": {
          "base_uri": "https://localhost:8080/"
        },
        "id": "lxY3zToIGSHx",
        "outputId": "8d10d557-eb85-483b-db12-784ff95b2244"
      },
      "execution_count": 40,
      "outputs": [
        {
          "output_type": "execute_result",
          "data": {
            "text/plain": [
              "array([[4.83214543e-310, 0.00000000e+000],\n",
              "       [2.05833592e-312, 2.18565567e-312],\n",
              "       [5.63998211e-018, 4.28096524e-307]])"
            ]
          },
          "metadata": {},
          "execution_count": 40
        }
      ]
    },
    {
      "cell_type": "code",
      "source": [
        "# Range of elements\n",
        "np.arange(2,9,2)"
      ],
      "metadata": {
        "colab": {
          "base_uri": "https://localhost:8080/"
        },
        "id": "iJ4hnDdVGUdx",
        "outputId": "f829c2d9-1a90-455d-ee9b-8eec123c5c3e"
      },
      "execution_count": 41,
      "outputs": [
        {
          "output_type": "execute_result",
          "data": {
            "text/plain": [
              "array([2, 4, 6, 8])"
            ]
          },
          "metadata": {},
          "execution_count": 41
        }
      ]
    },
    {
      "cell_type": "markdown",
      "source": [
        "**Adding, removing, and sorting elements**"
      ],
      "metadata": {
        "id": "2UgRRiGXIZwd"
      }
    },
    {
      "cell_type": "code",
      "source": [
        "myarr = np.array([1,2,9,4,3,7,1,5,8,2])\n",
        "myarr\n",
        "np.sort(myarr)"
      ],
      "metadata": {
        "colab": {
          "base_uri": "https://localhost:8080/"
        },
        "id": "uOZxqrfiIbQi",
        "outputId": "34205594-4d98-462d-81c6-65dc85d2f221"
      },
      "execution_count": 42,
      "outputs": [
        {
          "output_type": "execute_result",
          "data": {
            "text/plain": [
              "array([1, 1, 2, 2, 3, 4, 5, 7, 8, 9])"
            ]
          },
          "metadata": {},
          "execution_count": 42
        }
      ]
    },
    {
      "cell_type": "markdown",
      "source": [
        "Concatinate arrays"
      ],
      "metadata": {
        "id": "nBXD_az3LAok"
      }
    },
    {
      "cell_type": "code",
      "source": [
        "arr1 = np.array([5,6,7])\n",
        "arr2 = np.array([11,24,89])\n",
        "arrfinal = np.concatenate((arr1,arr2))\n",
        "arrfinal"
      ],
      "metadata": {
        "colab": {
          "base_uri": "https://localhost:8080/"
        },
        "id": "0CPBf1a6LDZC",
        "outputId": "53c8a1fc-4c9d-486b-f57b-cd15ccb4a5db"
      },
      "execution_count": 43,
      "outputs": [
        {
          "output_type": "execute_result",
          "data": {
            "text/plain": [
              "array([ 5,  6,  7, 11, 24, 89])"
            ]
          },
          "metadata": {},
          "execution_count": 43
        }
      ]
    },
    {
      "cell_type": "code",
      "source": [
        "one = np.array([[1,2,3],[4,5,6],[11,2,45]])\n",
        "two = np.array([[7,6,90]])\n",
        "\n",
        "final = np.concatenate((one,two), axis=0)\n",
        "final"
      ],
      "metadata": {
        "colab": {
          "base_uri": "https://localhost:8080/"
        },
        "id": "xspH-L1JPYDb",
        "outputId": "931f6062-a481-46a6-d256-7eaacd68966f"
      },
      "execution_count": 44,
      "outputs": [
        {
          "output_type": "execute_result",
          "data": {
            "text/plain": [
              "array([[ 1,  2,  3],\n",
              "       [ 4,  5,  6],\n",
              "       [11,  2, 45],\n",
              "       [ 7,  6, 90]])"
            ]
          },
          "metadata": {},
          "execution_count": 44
        }
      ]
    },
    {
      "cell_type": "code",
      "source": [
        "final2 = np.concatenate((one, two.T), axis=1)\n",
        "final2.shape\n",
        "\n",
        "arr3 = np.array([[[[1,2],\n",
        "                  [3,4],\n",
        "                  [7,5]],\n",
        "\n",
        "                 [[2,3],\n",
        "                 [12,13],\n",
        "                 [54,44]]],\n",
        "\n",
        "                 [[[1,2],\n",
        "                  [3,4],\n",
        "                  [7,5]],\n",
        "\n",
        "                 [[2,3],\n",
        "                 [12,13],\n",
        "                 [54,44]]]])\n",
        "arr3.shape"
      ],
      "metadata": {
        "colab": {
          "base_uri": "https://localhost:8080/"
        },
        "id": "LBo_5jmxlF-Y",
        "outputId": "61ff04fa-9821-49cc-c815-b36fb3b3415c"
      },
      "execution_count": 45,
      "outputs": [
        {
          "output_type": "execute_result",
          "data": {
            "text/plain": [
              "(2, 2, 3, 2)"
            ]
          },
          "metadata": {},
          "execution_count": 45
        }
      ]
    },
    {
      "cell_type": "code",
      "source": [
        "new_arr = np.arange(12)\n",
        "new_arr.reshape(3,4)"
      ],
      "metadata": {
        "colab": {
          "base_uri": "https://localhost:8080/"
        },
        "id": "M2HivjcKs8Fy",
        "outputId": "94f9e383-1b9c-4a91-9099-c12b1316d33e"
      },
      "execution_count": 46,
      "outputs": [
        {
          "output_type": "execute_result",
          "data": {
            "text/plain": [
              "array([[ 0,  1,  2,  3],\n",
              "       [ 4,  5,  6,  7],\n",
              "       [ 8,  9, 10, 11]])"
            ]
          },
          "metadata": {},
          "execution_count": 46
        }
      ]
    },
    {
      "cell_type": "markdown",
      "source": [
        "**1D array -> 2D array   (Add new axis to array)**"
      ],
      "metadata": {
        "id": "1my6P5oauHWx"
      }
    },
    {
      "cell_type": "code",
      "source": [
        "S_arr = np.arange(7)\n",
        "print(S_arr.shape)\n",
        "#S_arr = S_arr[np.newaxis, :]  # Convert to a row vector\n",
        "S_arr.shape\n",
        "\n",
        "S_col = S_arr[:, np.newaxis]\n",
        "S_col.shape"
      ],
      "metadata": {
        "colab": {
          "base_uri": "https://localhost:8080/"
        },
        "id": "GggKYS5puM5i",
        "outputId": "44e05b15-76f3-4428-e7e2-d150d1b10606"
      },
      "execution_count": 47,
      "outputs": [
        {
          "output_type": "stream",
          "name": "stdout",
          "text": [
            "(7,)\n"
          ]
        },
        {
          "output_type": "execute_result",
          "data": {
            "text/plain": [
              "(7, 1)"
            ]
          },
          "metadata": {},
          "execution_count": 47
        }
      ]
    },
    {
      "cell_type": "code",
      "source": [
        "data = np.arange(12)\n",
        "data.reshape(3,4)\n",
        "data[data<7]    ## print all values less than 7\n",
        "data[data>7]    ## print all values greater than 7\n",
        "data[(data%2==0) & (data>3)]    ## Satisfy both the conditions divisible by 2 & (>3)"
      ],
      "metadata": {
        "colab": {
          "base_uri": "https://localhost:8080/"
        },
        "id": "bbRdayCG1Lvc",
        "outputId": "31622b44-d695-4698-9801-ab7ce2fdb844"
      },
      "execution_count": 48,
      "outputs": [
        {
          "output_type": "execute_result",
          "data": {
            "text/plain": [
              "array([ 4,  6,  8, 10])"
            ]
          },
          "metadata": {},
          "execution_count": 48
        }
      ]
    },
    {
      "cell_type": "markdown",
      "source": [
        "**create an array from existing data**"
      ],
      "metadata": {
        "id": "K10vBMwx47yB"
      }
    },
    {
      "cell_type": "code",
      "source": [
        "a = np.array([1,  2,  3,  4,  5,  6,  7,  8,  9, 10])\n",
        "\n",
        "b = a[3:8]   ## From Index position 3 through (not included 8) index positon 8\n",
        "b"
      ],
      "metadata": {
        "colab": {
          "base_uri": "https://localhost:8080/"
        },
        "id": "qJgdJd8f60A_",
        "outputId": "296cd17b-5c14-4642-96a9-af148521b13f"
      },
      "execution_count": 49,
      "outputs": [
        {
          "output_type": "execute_result",
          "data": {
            "text/plain": [
              "array([4, 5, 6, 7, 8])"
            ]
          },
          "metadata": {},
          "execution_count": 49
        }
      ]
    },
    {
      "cell_type": "code",
      "source": [
        "## Stack two arrays\n",
        "\n",
        "a1 = np.array([[1, 1],\n",
        "               [2, 2]])\n",
        "\n",
        "a2 = np.array([[3, 3],\n",
        "               [4, 4]])\n",
        "\n",
        "a3 = np.hstack((a1, a2))\n",
        "a3"
      ],
      "metadata": {
        "colab": {
          "base_uri": "https://localhost:8080/"
        },
        "id": "532Xb08E8BKV",
        "outputId": "9d723719-5bdc-414d-845a-dc17b9aa7e6e"
      },
      "execution_count": 50,
      "outputs": [
        {
          "output_type": "execute_result",
          "data": {
            "text/plain": [
              "array([[1, 1, 3, 3],\n",
              "       [2, 2, 4, 4]])"
            ]
          },
          "metadata": {},
          "execution_count": 50
        }
      ]
    },
    {
      "cell_type": "code",
      "source": [
        "myarray = np.arange(1,19).reshape(3,6)\n",
        "print(myarray)\n",
        "np.vsplit(myarray, 3)"
      ],
      "metadata": {
        "colab": {
          "base_uri": "https://localhost:8080/"
        },
        "id": "40coKZsS8dQF",
        "outputId": "1ce378f1-f60e-478c-e09a-3518f864a58d"
      },
      "execution_count": 51,
      "outputs": [
        {
          "output_type": "stream",
          "name": "stdout",
          "text": [
            "[[ 1  2  3  4  5  6]\n",
            " [ 7  8  9 10 11 12]\n",
            " [13 14 15 16 17 18]]\n"
          ]
        },
        {
          "output_type": "execute_result",
          "data": {
            "text/plain": [
              "[array([[1, 2, 3, 4, 5, 6]]),\n",
              " array([[ 7,  8,  9, 10, 11, 12]]),\n",
              " array([[13, 14, 15, 16, 17, 18]])]"
            ]
          },
          "metadata": {},
          "execution_count": 51
        }
      ]
    },
    {
      "cell_type": "markdown",
      "source": [
        "**Views (a shallow copy)**"
      ],
      "metadata": {
        "id": "EOZHwbxZ9oRN"
      }
    },
    {
      "cell_type": "markdown",
      "source": [
        "* important NumPy concept\n",
        "*saves memory and is faster\n",
        "*modifying data in a view also modifies the original array!\n"
      ],
      "metadata": {
        "id": "wHEfSWXl9uXm"
      }
    },
    {
      "cell_type": "code",
      "source": [
        "a = np.array([[1, 2, 3, 4], [5, 6, 7, 8], [9, 10, 11, 12]])\n",
        "b1 = a[0, :]\n",
        "b1[0] = 99\n",
        "\n",
        "a"
      ],
      "metadata": {
        "colab": {
          "base_uri": "https://localhost:8080/"
        },
        "id": "t5BVNpXL9qNu",
        "outputId": "53c074a1-c17f-420f-b734-84e7fbcd7c94"
      },
      "execution_count": 52,
      "outputs": [
        {
          "output_type": "execute_result",
          "data": {
            "text/plain": [
              "array([[99,  2,  3,  4],\n",
              "       [ 5,  6,  7,  8],\n",
              "       [ 9, 10, 11, 12]])"
            ]
          },
          "metadata": {},
          "execution_count": 52
        }
      ]
    },
    {
      "cell_type": "markdown",
      "source": [
        "**Basic array operations**"
      ],
      "metadata": {
        "id": "J-fah5i-_X2w"
      }
    },
    {
      "cell_type": "code",
      "source": [
        "ones = np.ones([3,4], dtype=int)\n",
        "twos = np.ones([3,4], dtype=int)*2\n",
        "twos.sum(axis=1)    ## Summing along horizontal axis\n",
        "twos.sum(axis=0)    ## Summming along vertical axis"
      ],
      "metadata": {
        "colab": {
          "base_uri": "https://localhost:8080/"
        },
        "id": "W_hcTzha_Y-k",
        "outputId": "f161a64c-fcd6-43da-b6d9-65aa6ebce6cd"
      },
      "execution_count": 53,
      "outputs": [
        {
          "output_type": "execute_result",
          "data": {
            "text/plain": [
              "array([6, 6, 6, 6])"
            ]
          },
          "metadata": {},
          "execution_count": 53
        }
      ]
    },
    {
      "cell_type": "code",
      "source": [
        "nw_a = np.array([1,2,3,4,5,6])\n",
        "nw_a.max()\n",
        "nw_a.mean()"
      ],
      "metadata": {
        "colab": {
          "base_uri": "https://localhost:8080/"
        },
        "id": "cSknkFJl3_8E",
        "outputId": "fc74348f-4036-41cf-89e1-e7dc23eee8b2"
      },
      "execution_count": 54,
      "outputs": [
        {
          "output_type": "execute_result",
          "data": {
            "text/plain": [
              "3.5"
            ]
          },
          "metadata": {},
          "execution_count": 54
        }
      ]
    },
    {
      "cell_type": "code",
      "source": [
        "Tq = np.arange(12)\n",
        "\n",
        "Tq = Tq.reshape(3,4)\n",
        "sum = Tq.sum(axis=1)\n",
        "print(Tq)\n",
        "sum"
      ],
      "metadata": {
        "colab": {
          "base_uri": "https://localhost:8080/"
        },
        "id": "1aXzITwnjK_x",
        "outputId": "d182a7cf-70c9-4ff8-bd0b-de6098f82075"
      },
      "execution_count": 55,
      "outputs": [
        {
          "output_type": "stream",
          "name": "stdout",
          "text": [
            "[[ 0  1  2  3]\n",
            " [ 4  5  6  7]\n",
            " [ 8  9 10 11]]\n"
          ]
        },
        {
          "output_type": "execute_result",
          "data": {
            "text/plain": [
              "array([ 6, 22, 38])"
            ]
          },
          "metadata": {},
          "execution_count": 55
        }
      ]
    },
    {
      "cell_type": "code",
      "source": [
        "hnz = np.array([1,2,3,3,9,8,66,7,3,23,8,1,90,3,7,66,23,11,2,3,66])\n",
        "np.unique(hnz)        ## Print uniqu values in an array\n",
        "unival, ind = np.unique(hnz, return_index=True)\n",
        "print(unival)\n",
        "print(ind)"
      ],
      "metadata": {
        "colab": {
          "base_uri": "https://localhost:8080/"
        },
        "id": "MczRR7ippPNE",
        "outputId": "78945587-dfc2-457f-f8c4-80d5057a860a"
      },
      "execution_count": 56,
      "outputs": [
        {
          "output_type": "stream",
          "name": "stdout",
          "text": [
            "[ 1  2  3  7  8  9 11 23 66 90]\n",
            "[ 0  1  2  7  5  4 17  9  6 12]\n"
          ]
        }
      ]
    },
    {
      "cell_type": "markdown",
      "source": [
        "**Transposing and reshaping a matrix**"
      ],
      "metadata": {
        "id": "49UC0c9wquEv"
      }
    },
    {
      "cell_type": "code",
      "source": [
        "mat = np.array([[1,2,3],\n",
        "                [4,5,6],\n",
        "                [7,8,9]])\n",
        "## Reshape\n",
        "reshp = mat.reshape( 1,9)\n",
        "print(reshp)\n",
        "mat.T     ## Transpose of the matrix\n",
        "\n",
        "\n",
        "## Flip the matrix\n",
        "flipped = np.flip(reshp)\n",
        "flipped"
      ],
      "metadata": {
        "colab": {
          "base_uri": "https://localhost:8080/"
        },
        "id": "7luDPyLdqvDm",
        "outputId": "8b04a01d-e07a-4fb8-9426-fc5ec81c58bb"
      },
      "execution_count": 57,
      "outputs": [
        {
          "output_type": "stream",
          "name": "stdout",
          "text": [
            "[[1 2 3 4 5 6 7 8 9]]\n"
          ]
        },
        {
          "output_type": "execute_result",
          "data": {
            "text/plain": [
              "array([[9, 8, 7, 6, 5, 4, 3, 2, 1]])"
            ]
          },
          "metadata": {},
          "execution_count": 57
        }
      ]
    },
    {
      "cell_type": "code",
      "source": [
        "arr2d = np.arange(12).reshape(3,4)\n",
        "print(arr2d)\n",
        "reverse2d = np.flip(arr2d, axis=0)\n",
        "reverse2d\n",
        "\n",
        "## You can flip only one row also\n",
        "# reversed2d_one = arr2d\n",
        "# reversed2d_one[1] = np.flip(arr2d[1])\n",
        "# reversed2d_one"
      ],
      "metadata": {
        "colab": {
          "base_uri": "https://localhost:8080/"
        },
        "id": "PHfKssDS5kgf",
        "outputId": "572d8c12-cb30-428e-b260-1407f02d9eeb"
      },
      "execution_count": 58,
      "outputs": [
        {
          "output_type": "stream",
          "name": "stdout",
          "text": [
            "[[ 0  1  2  3]\n",
            " [ 4  5  6  7]\n",
            " [ 8  9 10 11]]\n"
          ]
        },
        {
          "output_type": "execute_result",
          "data": {
            "text/plain": [
              "array([[ 8,  9, 10, 11],\n",
              "       [ 4,  5,  6,  7],\n",
              "       [ 0,  1,  2,  3]])"
            ]
          },
          "metadata": {},
          "execution_count": 58
        }
      ]
    },
    {
      "cell_type": "markdown",
      "source": [
        "**Flattening multidimensional arrays**"
      ],
      "metadata": {
        "id": "ioLrMh4A76Qb"
      }
    },
    {
      "cell_type": "code",
      "source": [
        "U = np.arange(1,13).reshape(3,4)\n",
        "print(U.flatten())\n",
        "U       ## If you used ravel function, changes reflects to parent array also"
      ],
      "metadata": {
        "colab": {
          "base_uri": "https://localhost:8080/"
        },
        "id": "6re-_UC_79FM",
        "outputId": "6e86fd56-72b2-4f3b-a909-dde99f3e1296"
      },
      "execution_count": 59,
      "outputs": [
        {
          "output_type": "stream",
          "name": "stdout",
          "text": [
            "[ 1  2  3  4  5  6  7  8  9 10 11 12]\n"
          ]
        },
        {
          "output_type": "execute_result",
          "data": {
            "text/plain": [
              "array([[ 1,  2,  3,  4],\n",
              "       [ 5,  6,  7,  8],\n",
              "       [ 9, 10, 11, 12]])"
            ]
          },
          "metadata": {},
          "execution_count": 59
        }
      ]
    },
    {
      "cell_type": "markdown",
      "source": [
        "**Working with mathematical formulas**"
      ],
      "metadata": {
        "id": "SB82dCwQhAh7"
      }
    },
    {
      "cell_type": "code",
      "source": [
        "## Mean Square Error\n",
        "pred = np.arange(1,13).reshape(3,4)\n",
        "print(\"pred:\",pred)\n",
        "y = np.flip(pred).reshape(3,4)\n",
        "print(\"y:\",y)\n",
        "array_size = np.size(pred)\n",
        "\n",
        "MSE = (1/array_size) * np.sum(np.square(pred-y))\n",
        "MSE"
      ],
      "metadata": {
        "colab": {
          "base_uri": "https://localhost:8080/"
        },
        "id": "L62mbPvvhF9y",
        "outputId": "daa668bb-cdd3-4736-b517-29bea4835c55"
      },
      "execution_count": 60,
      "outputs": [
        {
          "output_type": "stream",
          "name": "stdout",
          "text": [
            "pred: [[ 1  2  3  4]\n",
            " [ 5  6  7  8]\n",
            " [ 9 10 11 12]]\n",
            "y: [[12 11 10  9]\n",
            " [ 8  7  6  5]\n",
            " [ 4  3  2  1]]\n"
          ]
        },
        {
          "output_type": "execute_result",
          "data": {
            "text/plain": [
              "47.666666666666664"
            ]
          },
          "metadata": {},
          "execution_count": 60
        }
      ]
    }
  ]
}