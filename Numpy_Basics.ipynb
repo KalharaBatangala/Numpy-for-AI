{
  "nbformat": 4,
  "nbformat_minor": 0,
  "metadata": {
    "colab": {
      "provenance": [],
      "authorship_tag": "ABX9TyPnTHLmm+4tWqgUzuQVbnZn",
      "include_colab_link": true
    },
    "kernelspec": {
      "name": "python3",
      "display_name": "Python 3"
    },
    "language_info": {
      "name": "python"
    }
  },
  "cells": [
    {
      "cell_type": "markdown",
      "metadata": {
        "id": "view-in-github",
        "colab_type": "text"
      },
      "source": [
        "<a href=\"https://colab.research.google.com/github/KalharaBatangala/Numpy-for-AI/blob/main/Numpy_Basics.ipynb\" target=\"_parent\"><img src=\"https://colab.research.google.com/assets/colab-badge.svg\" alt=\"Open In Colab\"/></a>"
      ]
    },
    {
      "cell_type": "code",
      "execution_count": 43,
      "metadata": {
        "id": "0sJ_3C-9NyIC"
      },
      "outputs": [],
      "source": [
        "import numpy as np\n",
        "import math"
      ]
    },
    {
      "cell_type": "code",
      "source": [
        "a = np.array([1,2,3])\n",
        "a"
      ],
      "metadata": {
        "colab": {
          "base_uri": "https://localhost:8080/"
        },
        "id": "D9COJPK8N9vS",
        "outputId": "e3776290-d98b-4601-bb64-2c4176349a92"
      },
      "execution_count": 44,
      "outputs": [
        {
          "output_type": "execute_result",
          "data": {
            "text/plain": [
              "array([1, 2, 3])"
            ]
          },
          "metadata": {},
          "execution_count": 44
        }
      ]
    },
    {
      "cell_type": "code",
      "source": [
        "myl = np.array([[2,2,3,4,5],\n",
        "                [2,2,3,4,5]])\n",
        "\n",
        "myl.ndim #Return number of dimensions\n",
        "myl.shape # Return number of elements in each dimension   (2,5)\n",
        "len(myl.shape) == myl.ndim  # Is it the same as no. of dimensions?\n",
        "myl.size   # Total number of elements  (10)\n",
        "math.prod(myl.shape) == myl.size    # no. of elements is each dimension * no. of dimensions\n",
        "\n",
        "myl.dtype"
      ],
      "metadata": {
        "id": "vn1p818kONq1",
        "colab": {
          "base_uri": "https://localhost:8080/"
        },
        "outputId": "4378b65a-f68f-4288-a1f2-272b01e3d5ab"
      },
      "execution_count": 45,
      "outputs": [
        {
          "output_type": "execute_result",
          "data": {
            "text/plain": [
              "dtype('int64')"
            ]
          },
          "metadata": {},
          "execution_count": 45
        }
      ]
    },
    {
      "cell_type": "markdown",
      "source": [
        "**Create a basic array**"
      ],
      "metadata": {
        "id": "il7wZyxPOVWN"
      }
    },
    {
      "cell_type": "code",
      "source": [
        "array = np.zeros([2,3])\n",
        "array\n",
        "array.shape\n",
        "math.prod(array.shape) == array.size"
      ],
      "metadata": {
        "id": "FBxEfyseOXTV",
        "colab": {
          "base_uri": "https://localhost:8080/"
        },
        "outputId": "901ae26e-8c24-45d5-c2c2-71d3ad5673fe"
      },
      "execution_count": 46,
      "outputs": [
        {
          "output_type": "execute_result",
          "data": {
            "text/plain": [
              "True"
            ]
          },
          "metadata": {},
          "execution_count": 46
        }
      ]
    },
    {
      "cell_type": "code",
      "source": [
        "array_ones = np.ones([3,2], dtype=int)\n",
        "array_ones\n",
        "array_ones[1][1] = 5\n",
        "np.sum(array_ones)\n"
      ],
      "metadata": {
        "colab": {
          "base_uri": "https://localhost:8080/"
        },
        "id": "Z0n1Ul50GPwu",
        "outputId": "44caab45-e5e0-45e7-bbe7-83db5cf5352e"
      },
      "execution_count": 47,
      "outputs": [
        {
          "output_type": "execute_result",
          "data": {
            "text/plain": [
              "10"
            ]
          },
          "metadata": {},
          "execution_count": 47
        }
      ]
    },
    {
      "cell_type": "code",
      "source": [
        "# Empty array\n",
        "array_emt = np.empty([3,2])  #Because of speed\n",
        "array_emt\n",
        "\n"
      ],
      "metadata": {
        "colab": {
          "base_uri": "https://localhost:8080/"
        },
        "id": "lxY3zToIGSHx",
        "outputId": "9a7b9f60-eb98-4102-e523-caa454b23f5c"
      },
      "execution_count": 48,
      "outputs": [
        {
          "output_type": "execute_result",
          "data": {
            "text/plain": [
              "array([[4.84317848e-310, 0.00000000e+000],\n",
              "       [9.76118064e-313, 1.78247646e-312],\n",
              "       [9.54898106e-313, 2.76676762e-322]])"
            ]
          },
          "metadata": {},
          "execution_count": 48
        }
      ]
    },
    {
      "cell_type": "code",
      "source": [
        "# Range of elements\n",
        "np.arange(2,9,2)"
      ],
      "metadata": {
        "colab": {
          "base_uri": "https://localhost:8080/"
        },
        "id": "iJ4hnDdVGUdx",
        "outputId": "c6462869-5521-494d-ba76-646245934cb1"
      },
      "execution_count": 49,
      "outputs": [
        {
          "output_type": "execute_result",
          "data": {
            "text/plain": [
              "array([2, 4, 6, 8])"
            ]
          },
          "metadata": {},
          "execution_count": 49
        }
      ]
    },
    {
      "cell_type": "markdown",
      "source": [
        "**Adding, removing, and sorting elements**"
      ],
      "metadata": {
        "id": "2UgRRiGXIZwd"
      }
    },
    {
      "cell_type": "code",
      "source": [
        "myarr = np.array([1,2,9,4,3,7,1,5,8,2])\n",
        "myarr\n",
        "np.sort(myarr)"
      ],
      "metadata": {
        "colab": {
          "base_uri": "https://localhost:8080/"
        },
        "id": "uOZxqrfiIbQi",
        "outputId": "78be7734-1f4f-45e1-f8a3-716c37d56a15"
      },
      "execution_count": 50,
      "outputs": [
        {
          "output_type": "execute_result",
          "data": {
            "text/plain": [
              "array([1, 1, 2, 2, 3, 4, 5, 7, 8, 9])"
            ]
          },
          "metadata": {},
          "execution_count": 50
        }
      ]
    },
    {
      "cell_type": "markdown",
      "source": [
        "Concatinate arrays"
      ],
      "metadata": {
        "id": "nBXD_az3LAok"
      }
    },
    {
      "cell_type": "code",
      "source": [
        "arr1 = np.array([5,6,7])\n",
        "arr2 = np.array([11,24,89])\n",
        "arrfinal = np.concatenate((arr1,arr2))\n",
        "arrfinal"
      ],
      "metadata": {
        "colab": {
          "base_uri": "https://localhost:8080/"
        },
        "id": "0CPBf1a6LDZC",
        "outputId": "7b903b90-8b99-4ea6-e886-55220f373320"
      },
      "execution_count": 51,
      "outputs": [
        {
          "output_type": "execute_result",
          "data": {
            "text/plain": [
              "array([ 5,  6,  7, 11, 24, 89])"
            ]
          },
          "metadata": {},
          "execution_count": 51
        }
      ]
    },
    {
      "cell_type": "code",
      "source": [
        "one = np.array([[1,2,3],[4,5,6],[11,2,45]])\n",
        "two = np.array([[7,6,90]])\n",
        "\n",
        "final = np.concatenate((one,two), axis=0)\n",
        "final"
      ],
      "metadata": {
        "colab": {
          "base_uri": "https://localhost:8080/"
        },
        "id": "xspH-L1JPYDb",
        "outputId": "7c7939a1-792c-446c-b349-b60a249e3a66"
      },
      "execution_count": 66,
      "outputs": [
        {
          "output_type": "execute_result",
          "data": {
            "text/plain": [
              "array([[ 1,  2,  3],\n",
              "       [ 4,  5,  6],\n",
              "       [11,  2, 45],\n",
              "       [ 7,  6, 90]])"
            ]
          },
          "metadata": {},
          "execution_count": 66
        }
      ]
    },
    {
      "cell_type": "code",
      "source": [
        "final2 = np.concatenate((one, two.T), axis=1)\n",
        "final2.shape\n",
        "\n",
        "arr3 = np.array([[[[1,2],\n",
        "                  [3,4],\n",
        "                  [7,5]],\n",
        "\n",
        "                 [[2,3],\n",
        "                 [12,13],\n",
        "                 [54,44]]],\n",
        "\n",
        "                 [[[1,2],\n",
        "                  [3,4],\n",
        "                  [7,5]],\n",
        "\n",
        "                 [[2,3],\n",
        "                 [12,13],\n",
        "                 [54,44]]]])\n",
        "arr3.shape"
      ],
      "metadata": {
        "colab": {
          "base_uri": "https://localhost:8080/"
        },
        "id": "LBo_5jmxlF-Y",
        "outputId": "7c350e79-335c-4af0-ea0d-6dc51ae6cb6c"
      },
      "execution_count": 78,
      "outputs": [
        {
          "output_type": "execute_result",
          "data": {
            "text/plain": [
              "(2, 2, 3, 2)"
            ]
          },
          "metadata": {},
          "execution_count": 78
        }
      ]
    },
    {
      "cell_type": "code",
      "source": [
        "new_arr = np.arange(12)\n",
        "new_arr.reshape(3,4)"
      ],
      "metadata": {
        "colab": {
          "base_uri": "https://localhost:8080/"
        },
        "id": "M2HivjcKs8Fy",
        "outputId": "f0cd54a2-0c09-4783-ea13-87e1ed5dba14"
      },
      "execution_count": 93,
      "outputs": [
        {
          "output_type": "execute_result",
          "data": {
            "text/plain": [
              "array([[ 0,  1,  2,  3],\n",
              "       [ 4,  5,  6,  7],\n",
              "       [ 8,  9, 10, 11]])"
            ]
          },
          "metadata": {},
          "execution_count": 93
        }
      ]
    },
    {
      "cell_type": "markdown",
      "source": [
        "**1D array -> 2D array   (Add new axis to array)**"
      ],
      "metadata": {
        "id": "1my6P5oauHWx"
      }
    },
    {
      "cell_type": "code",
      "source": [
        "S_arr = np.arange(7)\n",
        "print(S_arr.shape)\n",
        "#S_arr = S_arr[np.newaxis, :]  # Convert to a row vector\n",
        "S_arr.shape\n",
        "\n",
        "S_col = S_arr[:, np.newaxis]\n",
        "S_col.shape"
      ],
      "metadata": {
        "colab": {
          "base_uri": "https://localhost:8080/"
        },
        "id": "GggKYS5puM5i",
        "outputId": "238c03e7-fbe1-4ed1-bc9b-69a707d7c4ff"
      },
      "execution_count": 101,
      "outputs": [
        {
          "output_type": "stream",
          "name": "stdout",
          "text": [
            "(7,)\n"
          ]
        },
        {
          "output_type": "execute_result",
          "data": {
            "text/plain": [
              "(7, 1)"
            ]
          },
          "metadata": {},
          "execution_count": 101
        }
      ]
    },
    {
      "cell_type": "code",
      "source": [
        "data = np.arange(12)\n",
        "data.reshape(3,4)\n",
        "data[data<7]    ## print all values less than 7\n",
        "data[data>7]    ## print all values greater than 7\n",
        "data[(data%2==0) & (data>3)]    ## Satisfy both the conditions divisible by 2 & (>3)"
      ],
      "metadata": {
        "colab": {
          "base_uri": "https://localhost:8080/"
        },
        "id": "bbRdayCG1Lvc",
        "outputId": "4355973a-571e-4fe7-f0c2-65a4dd0a8e85"
      },
      "execution_count": 129,
      "outputs": [
        {
          "output_type": "execute_result",
          "data": {
            "text/plain": [
              "array([ 4,  6,  8, 10])"
            ]
          },
          "metadata": {},
          "execution_count": 129
        }
      ]
    },
    {
      "cell_type": "markdown",
      "source": [
        "**create an array from existing data**"
      ],
      "metadata": {
        "id": "K10vBMwx47yB"
      }
    },
    {
      "cell_type": "code",
      "source": [
        "a = np.array([1,  2,  3,  4,  5,  6,  7,  8,  9, 10])\n",
        "\n",
        "b = a[3:8]   ## From Index position 3 through (not included 8) index positon 8\n",
        "b"
      ],
      "metadata": {
        "colab": {
          "base_uri": "https://localhost:8080/"
        },
        "id": "qJgdJd8f60A_",
        "outputId": "a793742c-9cdb-4f9c-8e01-3a81c0b15efa"
      },
      "execution_count": 131,
      "outputs": [
        {
          "output_type": "execute_result",
          "data": {
            "text/plain": [
              "array([4, 5, 6, 7, 8])"
            ]
          },
          "metadata": {},
          "execution_count": 131
        }
      ]
    },
    {
      "cell_type": "code",
      "source": [
        "## Stack two arrays\n",
        "\n",
        "a1 = np.array([[1, 1],\n",
        "               [2, 2]])\n",
        "\n",
        "a2 = np.array([[3, 3],\n",
        "               [4, 4]])\n",
        "\n",
        "a3 = np.hstack((a1, a2))\n",
        "a3"
      ],
      "metadata": {
        "colab": {
          "base_uri": "https://localhost:8080/"
        },
        "id": "532Xb08E8BKV",
        "outputId": "6ba3359b-356b-4ec0-f327-04d795274ea6"
      },
      "execution_count": 133,
      "outputs": [
        {
          "output_type": "execute_result",
          "data": {
            "text/plain": [
              "array([[1, 1, 3, 3],\n",
              "       [2, 2, 4, 4]])"
            ]
          },
          "metadata": {},
          "execution_count": 133
        }
      ]
    },
    {
      "cell_type": "code",
      "source": [
        "myarray = np.arange(1,19).reshape(3,6)\n",
        "print(myarray)\n",
        "np.vsplit(myarray, 3)"
      ],
      "metadata": {
        "colab": {
          "base_uri": "https://localhost:8080/"
        },
        "id": "40coKZsS8dQF",
        "outputId": "774dbe3a-ddc3-4c2d-8b2e-0825267ba85d"
      },
      "execution_count": 144,
      "outputs": [
        {
          "output_type": "stream",
          "name": "stdout",
          "text": [
            "[[ 1  2  3  4  5  6]\n",
            " [ 7  8  9 10 11 12]\n",
            " [13 14 15 16 17 18]]\n"
          ]
        },
        {
          "output_type": "execute_result",
          "data": {
            "text/plain": [
              "[array([[1, 2, 3, 4, 5, 6]]),\n",
              " array([[ 7,  8,  9, 10, 11, 12]]),\n",
              " array([[13, 14, 15, 16, 17, 18]])]"
            ]
          },
          "metadata": {},
          "execution_count": 144
        }
      ]
    },
    {
      "cell_type": "markdown",
      "source": [
        "**Views (a shallow copy)**"
      ],
      "metadata": {
        "id": "EOZHwbxZ9oRN"
      }
    },
    {
      "cell_type": "markdown",
      "source": [
        "* important NumPy concept\n",
        "*saves memory and is faster\n",
        "*modifying data in a view also modifies the original array!\n"
      ],
      "metadata": {
        "id": "wHEfSWXl9uXm"
      }
    },
    {
      "cell_type": "code",
      "source": [
        "a = np.array([[1, 2, 3, 4], [5, 6, 7, 8], [9, 10, 11, 12]])\n",
        "b1 = a[0, :]\n",
        "b1[0] = 99\n",
        "\n",
        "a"
      ],
      "metadata": {
        "colab": {
          "base_uri": "https://localhost:8080/"
        },
        "id": "t5BVNpXL9qNu",
        "outputId": "6cef997b-9e60-47e6-e707-47d0bcb4a009"
      },
      "execution_count": 150,
      "outputs": [
        {
          "output_type": "execute_result",
          "data": {
            "text/plain": [
              "array([[99,  2,  3,  4],\n",
              "       [ 5,  6,  7,  8],\n",
              "       [ 9, 10, 11, 12]])"
            ]
          },
          "metadata": {},
          "execution_count": 150
        }
      ]
    },
    {
      "cell_type": "markdown",
      "source": [
        "**Basic array operations**"
      ],
      "metadata": {
        "id": "J-fah5i-_X2w"
      }
    },
    {
      "cell_type": "code",
      "source": [
        "ones = np.ones([3,4], dtype=int)\n",
        "twos = np.ones([3,4], dtype=int)*2\n",
        "twos.sum()\n"
      ],
      "metadata": {
        "colab": {
          "base_uri": "https://localhost:8080/"
        },
        "id": "W_hcTzha_Y-k",
        "outputId": "2073ff99-d653-413e-fb25-64cb1b4a66ba"
      },
      "execution_count": 171,
      "outputs": [
        {
          "output_type": "execute_result",
          "data": {
            "text/plain": [
              "24"
            ]
          },
          "metadata": {},
          "execution_count": 171
        }
      ]
    }
  ]
}